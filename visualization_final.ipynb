{
 "cells": [
  {
   "cell_type": "code",
   "execution_count": 132,
   "id": "22d300a4",
   "metadata": {},
   "outputs": [],
   "source": [
    "import pandas as pd\n",
    "import plotly.express as px\n",
    "import plotly.graph_objects as go\n",
    "import plotly.io as pio"
   ]
  },
  {
   "cell_type": "code",
   "execution_count": 48,
   "id": "d2199a26",
   "metadata": {},
   "outputs": [],
   "source": [
    "# saving the jhon hopkins dala link\n",
    "JH_url_in =  \"https://raw.githubusercontent.com/CSSEGISandData/COVID-19/master/csse_covid_19_data/csse_covid_19_time_series/\""
   ]
  },
  {
   "cell_type": "code",
   "execution_count": 49,
   "id": "cb8a3b24",
   "metadata": {},
   "outputs": [],
   "source": [
    "# saving the jhon hopkins file names\n",
    "JH_file_names = [\n",
    "    \"time_series_covid19_confirmed_global.csv\",\n",
    "    \"time_series_covid19_deaths_global.csv\"\n",
    "]"
   ]
  },
  {
   "cell_type": "code",
   "execution_count": 50,
   "id": "4dd01483",
   "metadata": {},
   "outputs": [],
   "source": [
    "# joining the link to names\n",
    "JH_URL = [JH_url_in + filename for filename in JH_file_names]"
   ]
  },
  {
   "cell_type": "code",
   "execution_count": 51,
   "id": "768f0459",
   "metadata": {},
   "outputs": [],
   "source": [
    "# saving link for population data\n",
    "JH_UID = \"https://raw.githubusercontent.com/CSSEGISandData/COVID-19/master/csse_covid_19_data/UID_ISO_FIPS_LookUp_Table.csv\""
   ]
  },
  {
   "cell_type": "code",
   "execution_count": 52,
   "id": "8495f454",
   "metadata": {},
   "outputs": [],
   "source": [
    "# saving the link to containment data\n",
    "OX_url_in = \"https://raw.githubusercontent.com/OxCGRT/covid-policy-dataset/main/data/timeseries_indices/OxCGRT_timeseries_ContainmentHealthIndex_v1.csv\""
   ]
  },
  {
   "cell_type": "code",
   "execution_count": 53,
   "id": "341ab796",
   "metadata": {},
   "outputs": [],
   "source": [
    "# loading data from links\n",
    "global_cases = pd.read_csv(JH_URL[0]) #reading global cases\n",
    "global_deaths = pd.read_csv(JH_URL[1]) # reding global death\n",
    "UID = pd.read_csv(JH_UID) # reading world population by country\n",
    "CONT = pd.read_csv (OX_url_in) # reading Containment and closure Policies by country"
   ]
  },
  {
   "cell_type": "code",
   "execution_count": 54,
   "id": "01bb3b97",
   "metadata": {},
   "outputs": [],
   "source": [
    "# Pivot the global cases DataFrame to long format\n",
    "global_cases = global_cases.melt(id_vars=['Province/State', 'Country/Region', 'Lat', 'Long'], \n",
    "                                 var_name='date', \n",
    "                                 value_name='cases')\n",
    "\n",
    "# Select columns, excluding 'Province/State'\n",
    "global_cases = global_cases[['Country/Region', 'date', 'cases', 'Lat', 'Long']]"
   ]
  },
  {
   "cell_type": "code",
   "execution_count": 55,
   "id": "9b18adbf",
   "metadata": {},
   "outputs": [],
   "source": [
    "# Convert the 'date' column to datetime format\n",
    "global_cases['date'] = pd.to_datetime(global_cases['date'])"
   ]
  },
  {
   "cell_type": "code",
   "execution_count": 56,
   "id": "753a4fa8",
   "metadata": {},
   "outputs": [],
   "source": [
    "# Sort the DataFrame by 'Country/Region'\n",
    "global_cases = global_cases.sort_values(by=['Country/Region', 'date'])\n",
    "\n",
    "# Reset the index (optional)\n",
    "global_cases = global_cases.reset_index(drop=True)"
   ]
  },
  {
   "cell_type": "code",
   "execution_count": 57,
   "id": "b4d6aa73",
   "metadata": {},
   "outputs": [],
   "source": [
    "# Pivot the global deaths DataFrame to long format\n",
    "id_vars = ['Country/Region', 'Province/State', 'Lat', 'Long']\n",
    "\n",
    "# Pivot the DataFrame using pd.melt()\n",
    "global_deaths = pd.melt(global_deaths, id_vars=id_vars, var_name='date', value_name='deaths')\n",
    "\n",
    "# Select columns to keep\n",
    "global_deaths = global_deaths[['Country/Region', 'date', 'deaths']]"
   ]
  },
  {
   "cell_type": "code",
   "execution_count": 58,
   "id": "7b7065fd",
   "metadata": {},
   "outputs": [],
   "source": [
    "# Convert the 'date' column to datetime format\n",
    "global_deaths['date'] = pd.to_datetime(global_deaths['date'])"
   ]
  },
  {
   "cell_type": "code",
   "execution_count": 59,
   "id": "7988ecab",
   "metadata": {},
   "outputs": [],
   "source": [
    "# Sort the DataFrame by 'Country/Region'\n",
    "global_deaths = global_deaths.sort_values(by=['Country/Region', 'date'])\n",
    "\n",
    "# Reset the index (optional)\n",
    "global_deaths = global_deaths.reset_index(drop=True)"
   ]
  },
  {
   "cell_type": "code",
   "execution_count": 60,
   "id": "82855e5a",
   "metadata": {},
   "outputs": [],
   "source": [
    "# Tidy population data"
   ]
  },
  {
   "cell_type": "code",
   "execution_count": 61,
   "id": "31ac05f6",
   "metadata": {},
   "outputs": [],
   "source": [
    "# Select columns 'Province_State', 'Country_Region', 'Population'\n",
    "UID = UID[['Province_State', 'Country_Region', 'Population']]\n",
    "\n",
    "# Drop rows with missing values in the 'Population' column\n",
    "UID = UID.dropna(subset=['Population'])\n",
    "\n",
    "# Group by 'Country_Region' and calculate the maximum population\n",
    "UID = UID.groupby('Country_Region').agg({'Population': 'max'}).reset_index()\n",
    "\n",
    "# Rename the columns if needed\n",
    "UID.columns = ['Country_Region', 'Population']"
   ]
  },
  {
   "cell_type": "code",
   "execution_count": 62,
   "id": "56554f71",
   "metadata": {},
   "outputs": [],
   "source": [
    "# Tidy the containment and health indices data\n",
    "\n",
    "# Columns to keep as identifiers\n",
    "id_vars = ['CountryCode', 'CountryName', 'RegionCode', 'RegionName', 'CityCode', 'CityName', 'Jurisdiction']\n",
    "\n",
    "# Pivot the DataFrame using pd.melt()\n",
    "CONT = pd.melt(CONT, id_vars=id_vars, var_name='date', value_name='Containment')\n",
    "\n",
    "# Select columns to keep\n",
    "CONT = CONT[['CountryName', 'date', 'Containment']]\n"
   ]
  },
  {
   "cell_type": "code",
   "execution_count": 63,
   "id": "04c7b17a",
   "metadata": {},
   "outputs": [],
   "source": [
    "# Convert the 'date' column to datetime format\n",
    "CONT['date'] = pd.to_datetime(CONT['date'])"
   ]
  },
  {
   "cell_type": "code",
   "execution_count": 64,
   "id": "cea50b25",
   "metadata": {},
   "outputs": [],
   "source": [
    "# Sort the DataFrame by 'Country/Region and date'\n",
    "CONT = CONT.sort_values(by=['CountryName', 'date'])\n",
    "\n",
    "# Reset the index (optional)\n",
    "CONT = CONT.reset_index(drop=True)"
   ]
  },
  {
   "cell_type": "code",
   "execution_count": 65,
   "id": "d6c23f5b",
   "metadata": {},
   "outputs": [],
   "source": [
    "# unify the names\n",
    "\n",
    "CONT = CONT.rename(columns={'CountryName': 'Country'})\n",
    "global_cases = global_cases.rename(columns={'Country/Region': 'Country'})\n",
    "global_deaths = global_deaths.rename(columns={'Country/Region': 'Country'})\n",
    "UID = UID.rename(columns={'Country_Region': 'Country'})"
   ]
  },
  {
   "cell_type": "code",
   "execution_count": 66,
   "id": "06c45b88",
   "metadata": {},
   "outputs": [],
   "source": [
    "# merging global cases with global death\n",
    "Global = pd.merge(global_cases, global_deaths, on=['Country', 'date'], how='inner')"
   ]
  },
  {
   "cell_type": "code",
   "execution_count": 67,
   "id": "1eb0a9fd",
   "metadata": {},
   "outputs": [
    {
     "data": {
      "text/html": [
       "<div>\n",
       "<style scoped>\n",
       "    .dataframe tbody tr th:only-of-type {\n",
       "        vertical-align: middle;\n",
       "    }\n",
       "\n",
       "    .dataframe tbody tr th {\n",
       "        vertical-align: top;\n",
       "    }\n",
       "\n",
       "    .dataframe thead th {\n",
       "        text-align: right;\n",
       "    }\n",
       "</style>\n",
       "<table border=\"1\" class=\"dataframe\">\n",
       "  <thead>\n",
       "    <tr style=\"text-align: right;\">\n",
       "      <th></th>\n",
       "      <th>Country</th>\n",
       "      <th>date</th>\n",
       "      <th>cases</th>\n",
       "      <th>Lat</th>\n",
       "      <th>Long</th>\n",
       "      <th>deaths</th>\n",
       "    </tr>\n",
       "  </thead>\n",
       "  <tbody>\n",
       "    <tr>\n",
       "      <th>0</th>\n",
       "      <td>Afghanistan</td>\n",
       "      <td>2020-01-22</td>\n",
       "      <td>0</td>\n",
       "      <td>33.939110</td>\n",
       "      <td>67.709953</td>\n",
       "      <td>0</td>\n",
       "    </tr>\n",
       "    <tr>\n",
       "      <th>1</th>\n",
       "      <td>Afghanistan</td>\n",
       "      <td>2020-01-23</td>\n",
       "      <td>0</td>\n",
       "      <td>33.939110</td>\n",
       "      <td>67.709953</td>\n",
       "      <td>0</td>\n",
       "    </tr>\n",
       "    <tr>\n",
       "      <th>2</th>\n",
       "      <td>Afghanistan</td>\n",
       "      <td>2020-01-24</td>\n",
       "      <td>0</td>\n",
       "      <td>33.939110</td>\n",
       "      <td>67.709953</td>\n",
       "      <td>0</td>\n",
       "    </tr>\n",
       "    <tr>\n",
       "      <th>3</th>\n",
       "      <td>Afghanistan</td>\n",
       "      <td>2020-01-25</td>\n",
       "      <td>0</td>\n",
       "      <td>33.939110</td>\n",
       "      <td>67.709953</td>\n",
       "      <td>0</td>\n",
       "    </tr>\n",
       "    <tr>\n",
       "      <th>4</th>\n",
       "      <td>Afghanistan</td>\n",
       "      <td>2020-01-26</td>\n",
       "      <td>0</td>\n",
       "      <td>33.939110</td>\n",
       "      <td>67.709953</td>\n",
       "      <td>0</td>\n",
       "    </tr>\n",
       "    <tr>\n",
       "      <th>...</th>\n",
       "      <td>...</td>\n",
       "      <td>...</td>\n",
       "      <td>...</td>\n",
       "      <td>...</td>\n",
       "      <td>...</td>\n",
       "      <td>...</td>\n",
       "    </tr>\n",
       "    <tr>\n",
       "      <th>2378578</th>\n",
       "      <td>Zimbabwe</td>\n",
       "      <td>2023-03-05</td>\n",
       "      <td>264127</td>\n",
       "      <td>-19.015438</td>\n",
       "      <td>29.154857</td>\n",
       "      <td>5668</td>\n",
       "    </tr>\n",
       "    <tr>\n",
       "      <th>2378579</th>\n",
       "      <td>Zimbabwe</td>\n",
       "      <td>2023-03-06</td>\n",
       "      <td>264127</td>\n",
       "      <td>-19.015438</td>\n",
       "      <td>29.154857</td>\n",
       "      <td>5668</td>\n",
       "    </tr>\n",
       "    <tr>\n",
       "      <th>2378580</th>\n",
       "      <td>Zimbabwe</td>\n",
       "      <td>2023-03-07</td>\n",
       "      <td>264127</td>\n",
       "      <td>-19.015438</td>\n",
       "      <td>29.154857</td>\n",
       "      <td>5668</td>\n",
       "    </tr>\n",
       "    <tr>\n",
       "      <th>2378581</th>\n",
       "      <td>Zimbabwe</td>\n",
       "      <td>2023-03-08</td>\n",
       "      <td>264276</td>\n",
       "      <td>-19.015438</td>\n",
       "      <td>29.154857</td>\n",
       "      <td>5671</td>\n",
       "    </tr>\n",
       "    <tr>\n",
       "      <th>2378582</th>\n",
       "      <td>Zimbabwe</td>\n",
       "      <td>2023-03-09</td>\n",
       "      <td>264276</td>\n",
       "      <td>-19.015438</td>\n",
       "      <td>29.154857</td>\n",
       "      <td>5671</td>\n",
       "    </tr>\n",
       "  </tbody>\n",
       "</table>\n",
       "<p>2378583 rows × 6 columns</p>\n",
       "</div>"
      ],
      "text/plain": [
       "             Country       date   cases        Lat       Long  deaths\n",
       "0        Afghanistan 2020-01-22       0  33.939110  67.709953       0\n",
       "1        Afghanistan 2020-01-23       0  33.939110  67.709953       0\n",
       "2        Afghanistan 2020-01-24       0  33.939110  67.709953       0\n",
       "3        Afghanistan 2020-01-25       0  33.939110  67.709953       0\n",
       "4        Afghanistan 2020-01-26       0  33.939110  67.709953       0\n",
       "...              ...        ...     ...        ...        ...     ...\n",
       "2378578     Zimbabwe 2023-03-05  264127 -19.015438  29.154857    5668\n",
       "2378579     Zimbabwe 2023-03-06  264127 -19.015438  29.154857    5668\n",
       "2378580     Zimbabwe 2023-03-07  264127 -19.015438  29.154857    5668\n",
       "2378581     Zimbabwe 2023-03-08  264276 -19.015438  29.154857    5671\n",
       "2378582     Zimbabwe 2023-03-09  264276 -19.015438  29.154857    5671\n",
       "\n",
       "[2378583 rows x 6 columns]"
      ]
     },
     "execution_count": 67,
     "metadata": {},
     "output_type": "execute_result"
    }
   ],
   "source": [
    "Global"
   ]
  },
  {
   "cell_type": "code",
   "execution_count": 68,
   "id": "94370c32",
   "metadata": {},
   "outputs": [],
   "source": [
    "# merging global with CONT\n",
    "\n",
    "Global = pd.merge(Global, CONT, how='left', on=['Country', 'date'])\n"
   ]
  },
  {
   "cell_type": "code",
   "execution_count": 69,
   "id": "4ac44fba",
   "metadata": {},
   "outputs": [
    {
     "data": {
      "text/html": [
       "<div>\n",
       "<style scoped>\n",
       "    .dataframe tbody tr th:only-of-type {\n",
       "        vertical-align: middle;\n",
       "    }\n",
       "\n",
       "    .dataframe tbody tr th {\n",
       "        vertical-align: top;\n",
       "    }\n",
       "\n",
       "    .dataframe thead th {\n",
       "        text-align: right;\n",
       "    }\n",
       "</style>\n",
       "<table border=\"1\" class=\"dataframe\">\n",
       "  <thead>\n",
       "    <tr style=\"text-align: right;\">\n",
       "      <th></th>\n",
       "      <th>Country</th>\n",
       "      <th>date</th>\n",
       "      <th>cases</th>\n",
       "      <th>Lat</th>\n",
       "      <th>Long</th>\n",
       "      <th>deaths</th>\n",
       "      <th>Containment</th>\n",
       "    </tr>\n",
       "  </thead>\n",
       "  <tbody>\n",
       "    <tr>\n",
       "      <th>0</th>\n",
       "      <td>Afghanistan</td>\n",
       "      <td>2020-01-22</td>\n",
       "      <td>0</td>\n",
       "      <td>33.939110</td>\n",
       "      <td>67.709953</td>\n",
       "      <td>0</td>\n",
       "      <td>0.0</td>\n",
       "    </tr>\n",
       "    <tr>\n",
       "      <th>1</th>\n",
       "      <td>Afghanistan</td>\n",
       "      <td>2020-01-23</td>\n",
       "      <td>0</td>\n",
       "      <td>33.939110</td>\n",
       "      <td>67.709953</td>\n",
       "      <td>0</td>\n",
       "      <td>0.0</td>\n",
       "    </tr>\n",
       "    <tr>\n",
       "      <th>2</th>\n",
       "      <td>Afghanistan</td>\n",
       "      <td>2020-01-24</td>\n",
       "      <td>0</td>\n",
       "      <td>33.939110</td>\n",
       "      <td>67.709953</td>\n",
       "      <td>0</td>\n",
       "      <td>0.0</td>\n",
       "    </tr>\n",
       "    <tr>\n",
       "      <th>3</th>\n",
       "      <td>Afghanistan</td>\n",
       "      <td>2020-01-25</td>\n",
       "      <td>0</td>\n",
       "      <td>33.939110</td>\n",
       "      <td>67.709953</td>\n",
       "      <td>0</td>\n",
       "      <td>0.0</td>\n",
       "    </tr>\n",
       "    <tr>\n",
       "      <th>4</th>\n",
       "      <td>Afghanistan</td>\n",
       "      <td>2020-01-26</td>\n",
       "      <td>0</td>\n",
       "      <td>33.939110</td>\n",
       "      <td>67.709953</td>\n",
       "      <td>0</td>\n",
       "      <td>0.0</td>\n",
       "    </tr>\n",
       "    <tr>\n",
       "      <th>...</th>\n",
       "      <td>...</td>\n",
       "      <td>...</td>\n",
       "      <td>...</td>\n",
       "      <td>...</td>\n",
       "      <td>...</td>\n",
       "      <td>...</td>\n",
       "      <td>...</td>\n",
       "    </tr>\n",
       "    <tr>\n",
       "      <th>49508752</th>\n",
       "      <td>Zimbabwe</td>\n",
       "      <td>2023-03-05</td>\n",
       "      <td>264127</td>\n",
       "      <td>-19.015438</td>\n",
       "      <td>29.154857</td>\n",
       "      <td>5668</td>\n",
       "      <td>NaN</td>\n",
       "    </tr>\n",
       "    <tr>\n",
       "      <th>49508753</th>\n",
       "      <td>Zimbabwe</td>\n",
       "      <td>2023-03-06</td>\n",
       "      <td>264127</td>\n",
       "      <td>-19.015438</td>\n",
       "      <td>29.154857</td>\n",
       "      <td>5668</td>\n",
       "      <td>NaN</td>\n",
       "    </tr>\n",
       "    <tr>\n",
       "      <th>49508754</th>\n",
       "      <td>Zimbabwe</td>\n",
       "      <td>2023-03-07</td>\n",
       "      <td>264127</td>\n",
       "      <td>-19.015438</td>\n",
       "      <td>29.154857</td>\n",
       "      <td>5668</td>\n",
       "      <td>NaN</td>\n",
       "    </tr>\n",
       "    <tr>\n",
       "      <th>49508755</th>\n",
       "      <td>Zimbabwe</td>\n",
       "      <td>2023-03-08</td>\n",
       "      <td>264276</td>\n",
       "      <td>-19.015438</td>\n",
       "      <td>29.154857</td>\n",
       "      <td>5671</td>\n",
       "      <td>NaN</td>\n",
       "    </tr>\n",
       "    <tr>\n",
       "      <th>49508756</th>\n",
       "      <td>Zimbabwe</td>\n",
       "      <td>2023-03-09</td>\n",
       "      <td>264276</td>\n",
       "      <td>-19.015438</td>\n",
       "      <td>29.154857</td>\n",
       "      <td>5671</td>\n",
       "      <td>NaN</td>\n",
       "    </tr>\n",
       "  </tbody>\n",
       "</table>\n",
       "<p>49508757 rows × 7 columns</p>\n",
       "</div>"
      ],
      "text/plain": [
       "              Country       date   cases        Lat       Long  deaths  \\\n",
       "0         Afghanistan 2020-01-22       0  33.939110  67.709953       0   \n",
       "1         Afghanistan 2020-01-23       0  33.939110  67.709953       0   \n",
       "2         Afghanistan 2020-01-24       0  33.939110  67.709953       0   \n",
       "3         Afghanistan 2020-01-25       0  33.939110  67.709953       0   \n",
       "4         Afghanistan 2020-01-26       0  33.939110  67.709953       0   \n",
       "...               ...        ...     ...        ...        ...     ...   \n",
       "49508752     Zimbabwe 2023-03-05  264127 -19.015438  29.154857    5668   \n",
       "49508753     Zimbabwe 2023-03-06  264127 -19.015438  29.154857    5668   \n",
       "49508754     Zimbabwe 2023-03-07  264127 -19.015438  29.154857    5668   \n",
       "49508755     Zimbabwe 2023-03-08  264276 -19.015438  29.154857    5671   \n",
       "49508756     Zimbabwe 2023-03-09  264276 -19.015438  29.154857    5671   \n",
       "\n",
       "          Containment  \n",
       "0                 0.0  \n",
       "1                 0.0  \n",
       "2                 0.0  \n",
       "3                 0.0  \n",
       "4                 0.0  \n",
       "...               ...  \n",
       "49508752          NaN  \n",
       "49508753          NaN  \n",
       "49508754          NaN  \n",
       "49508755          NaN  \n",
       "49508756          NaN  \n",
       "\n",
       "[49508757 rows x 7 columns]"
      ]
     },
     "execution_count": 69,
     "metadata": {},
     "output_type": "execute_result"
    }
   ],
   "source": [
    "Global"
   ]
  },
  {
   "cell_type": "code",
   "execution_count": 70,
   "id": "374a2357",
   "metadata": {},
   "outputs": [],
   "source": [
    "# merging global with Polulation\n",
    "\n",
    "Global = pd.merge(Global, UID, how='left', on=['Country'])"
   ]
  },
  {
   "cell_type": "code",
   "execution_count": 71,
   "id": "45809d09",
   "metadata": {},
   "outputs": [
    {
     "data": {
      "text/html": [
       "<div>\n",
       "<style scoped>\n",
       "    .dataframe tbody tr th:only-of-type {\n",
       "        vertical-align: middle;\n",
       "    }\n",
       "\n",
       "    .dataframe tbody tr th {\n",
       "        vertical-align: top;\n",
       "    }\n",
       "\n",
       "    .dataframe thead th {\n",
       "        text-align: right;\n",
       "    }\n",
       "</style>\n",
       "<table border=\"1\" class=\"dataframe\">\n",
       "  <thead>\n",
       "    <tr style=\"text-align: right;\">\n",
       "      <th></th>\n",
       "      <th>Country</th>\n",
       "      <th>date</th>\n",
       "      <th>cases</th>\n",
       "      <th>Lat</th>\n",
       "      <th>Long</th>\n",
       "      <th>deaths</th>\n",
       "      <th>Containment</th>\n",
       "      <th>Population</th>\n",
       "    </tr>\n",
       "  </thead>\n",
       "  <tbody>\n",
       "    <tr>\n",
       "      <th>0</th>\n",
       "      <td>Afghanistan</td>\n",
       "      <td>2020-01-22</td>\n",
       "      <td>0</td>\n",
       "      <td>33.939110</td>\n",
       "      <td>67.709953</td>\n",
       "      <td>0</td>\n",
       "      <td>0.0</td>\n",
       "      <td>38928341.0</td>\n",
       "    </tr>\n",
       "    <tr>\n",
       "      <th>1</th>\n",
       "      <td>Afghanistan</td>\n",
       "      <td>2020-01-23</td>\n",
       "      <td>0</td>\n",
       "      <td>33.939110</td>\n",
       "      <td>67.709953</td>\n",
       "      <td>0</td>\n",
       "      <td>0.0</td>\n",
       "      <td>38928341.0</td>\n",
       "    </tr>\n",
       "    <tr>\n",
       "      <th>2</th>\n",
       "      <td>Afghanistan</td>\n",
       "      <td>2020-01-24</td>\n",
       "      <td>0</td>\n",
       "      <td>33.939110</td>\n",
       "      <td>67.709953</td>\n",
       "      <td>0</td>\n",
       "      <td>0.0</td>\n",
       "      <td>38928341.0</td>\n",
       "    </tr>\n",
       "    <tr>\n",
       "      <th>3</th>\n",
       "      <td>Afghanistan</td>\n",
       "      <td>2020-01-25</td>\n",
       "      <td>0</td>\n",
       "      <td>33.939110</td>\n",
       "      <td>67.709953</td>\n",
       "      <td>0</td>\n",
       "      <td>0.0</td>\n",
       "      <td>38928341.0</td>\n",
       "    </tr>\n",
       "    <tr>\n",
       "      <th>4</th>\n",
       "      <td>Afghanistan</td>\n",
       "      <td>2020-01-26</td>\n",
       "      <td>0</td>\n",
       "      <td>33.939110</td>\n",
       "      <td>67.709953</td>\n",
       "      <td>0</td>\n",
       "      <td>0.0</td>\n",
       "      <td>38928341.0</td>\n",
       "    </tr>\n",
       "    <tr>\n",
       "      <th>...</th>\n",
       "      <td>...</td>\n",
       "      <td>...</td>\n",
       "      <td>...</td>\n",
       "      <td>...</td>\n",
       "      <td>...</td>\n",
       "      <td>...</td>\n",
       "      <td>...</td>\n",
       "      <td>...</td>\n",
       "    </tr>\n",
       "    <tr>\n",
       "      <th>49508752</th>\n",
       "      <td>Zimbabwe</td>\n",
       "      <td>2023-03-05</td>\n",
       "      <td>264127</td>\n",
       "      <td>-19.015438</td>\n",
       "      <td>29.154857</td>\n",
       "      <td>5668</td>\n",
       "      <td>NaN</td>\n",
       "      <td>14862927.0</td>\n",
       "    </tr>\n",
       "    <tr>\n",
       "      <th>49508753</th>\n",
       "      <td>Zimbabwe</td>\n",
       "      <td>2023-03-06</td>\n",
       "      <td>264127</td>\n",
       "      <td>-19.015438</td>\n",
       "      <td>29.154857</td>\n",
       "      <td>5668</td>\n",
       "      <td>NaN</td>\n",
       "      <td>14862927.0</td>\n",
       "    </tr>\n",
       "    <tr>\n",
       "      <th>49508754</th>\n",
       "      <td>Zimbabwe</td>\n",
       "      <td>2023-03-07</td>\n",
       "      <td>264127</td>\n",
       "      <td>-19.015438</td>\n",
       "      <td>29.154857</td>\n",
       "      <td>5668</td>\n",
       "      <td>NaN</td>\n",
       "      <td>14862927.0</td>\n",
       "    </tr>\n",
       "    <tr>\n",
       "      <th>49508755</th>\n",
       "      <td>Zimbabwe</td>\n",
       "      <td>2023-03-08</td>\n",
       "      <td>264276</td>\n",
       "      <td>-19.015438</td>\n",
       "      <td>29.154857</td>\n",
       "      <td>5671</td>\n",
       "      <td>NaN</td>\n",
       "      <td>14862927.0</td>\n",
       "    </tr>\n",
       "    <tr>\n",
       "      <th>49508756</th>\n",
       "      <td>Zimbabwe</td>\n",
       "      <td>2023-03-09</td>\n",
       "      <td>264276</td>\n",
       "      <td>-19.015438</td>\n",
       "      <td>29.154857</td>\n",
       "      <td>5671</td>\n",
       "      <td>NaN</td>\n",
       "      <td>14862927.0</td>\n",
       "    </tr>\n",
       "  </tbody>\n",
       "</table>\n",
       "<p>49508757 rows × 8 columns</p>\n",
       "</div>"
      ],
      "text/plain": [
       "              Country       date   cases        Lat       Long  deaths  \\\n",
       "0         Afghanistan 2020-01-22       0  33.939110  67.709953       0   \n",
       "1         Afghanistan 2020-01-23       0  33.939110  67.709953       0   \n",
       "2         Afghanistan 2020-01-24       0  33.939110  67.709953       0   \n",
       "3         Afghanistan 2020-01-25       0  33.939110  67.709953       0   \n",
       "4         Afghanistan 2020-01-26       0  33.939110  67.709953       0   \n",
       "...               ...        ...     ...        ...        ...     ...   \n",
       "49508752     Zimbabwe 2023-03-05  264127 -19.015438  29.154857    5668   \n",
       "49508753     Zimbabwe 2023-03-06  264127 -19.015438  29.154857    5668   \n",
       "49508754     Zimbabwe 2023-03-07  264127 -19.015438  29.154857    5668   \n",
       "49508755     Zimbabwe 2023-03-08  264276 -19.015438  29.154857    5671   \n",
       "49508756     Zimbabwe 2023-03-09  264276 -19.015438  29.154857    5671   \n",
       "\n",
       "          Containment  Population  \n",
       "0                 0.0  38928341.0  \n",
       "1                 0.0  38928341.0  \n",
       "2                 0.0  38928341.0  \n",
       "3                 0.0  38928341.0  \n",
       "4                 0.0  38928341.0  \n",
       "...               ...         ...  \n",
       "49508752          NaN  14862927.0  \n",
       "49508753          NaN  14862927.0  \n",
       "49508754          NaN  14862927.0  \n",
       "49508755          NaN  14862927.0  \n",
       "49508756          NaN  14862927.0  \n",
       "\n",
       "[49508757 rows x 8 columns]"
      ]
     },
     "execution_count": 71,
     "metadata": {},
     "output_type": "execute_result"
    }
   ],
   "source": [
    "Global"
   ]
  },
  {
   "cell_type": "code",
   "execution_count": 72,
   "id": "c449d71d",
   "metadata": {},
   "outputs": [],
   "source": [
    "# Group by 'Country_Region' and 'date', and calculate the maximum values\n",
    "global_sum = Global.groupby(['Country']).agg({\n",
    "    'deaths': 'max',\n",
    "    'cases': 'max',\n",
    "    'Population': 'max',\n",
    "    'Containment': 'mean',\n",
    "    'Lat':'max',\n",
    "    'Long':'max'\n",
    "}).reset_index()"
   ]
  },
  {
   "cell_type": "code",
   "execution_count": 73,
   "id": "8bc7fb01",
   "metadata": {},
   "outputs": [
    {
     "data": {
      "text/html": [
       "<div>\n",
       "<style scoped>\n",
       "    .dataframe tbody tr th:only-of-type {\n",
       "        vertical-align: middle;\n",
       "    }\n",
       "\n",
       "    .dataframe tbody tr th {\n",
       "        vertical-align: top;\n",
       "    }\n",
       "\n",
       "    .dataframe thead th {\n",
       "        text-align: right;\n",
       "    }\n",
       "</style>\n",
       "<table border=\"1\" class=\"dataframe\">\n",
       "  <thead>\n",
       "    <tr style=\"text-align: right;\">\n",
       "      <th></th>\n",
       "      <th>Country</th>\n",
       "      <th>deaths</th>\n",
       "      <th>cases</th>\n",
       "      <th>Population</th>\n",
       "      <th>Containment</th>\n",
       "      <th>Lat</th>\n",
       "      <th>Long</th>\n",
       "    </tr>\n",
       "  </thead>\n",
       "  <tbody>\n",
       "    <tr>\n",
       "      <th>0</th>\n",
       "      <td>Afghanistan</td>\n",
       "      <td>7896</td>\n",
       "      <td>209451</td>\n",
       "      <td>38928341.0</td>\n",
       "      <td>30.294335</td>\n",
       "      <td>33.939110</td>\n",
       "      <td>67.709953</td>\n",
       "    </tr>\n",
       "    <tr>\n",
       "      <th>1</th>\n",
       "      <td>Albania</td>\n",
       "      <td>3598</td>\n",
       "      <td>334457</td>\n",
       "      <td>2877800.0</td>\n",
       "      <td>47.095619</td>\n",
       "      <td>41.153300</td>\n",
       "      <td>20.168300</td>\n",
       "    </tr>\n",
       "    <tr>\n",
       "      <th>2</th>\n",
       "      <td>Algeria</td>\n",
       "      <td>6881</td>\n",
       "      <td>271496</td>\n",
       "      <td>43851043.0</td>\n",
       "      <td>50.632912</td>\n",
       "      <td>28.033900</td>\n",
       "      <td>1.659600</td>\n",
       "    </tr>\n",
       "    <tr>\n",
       "      <th>3</th>\n",
       "      <td>Andorra</td>\n",
       "      <td>165</td>\n",
       "      <td>47890</td>\n",
       "      <td>77265.0</td>\n",
       "      <td>46.271070</td>\n",
       "      <td>42.506300</td>\n",
       "      <td>1.521800</td>\n",
       "    </tr>\n",
       "    <tr>\n",
       "      <th>4</th>\n",
       "      <td>Angola</td>\n",
       "      <td>1933</td>\n",
       "      <td>105288</td>\n",
       "      <td>32866268.0</td>\n",
       "      <td>50.021879</td>\n",
       "      <td>-11.202700</td>\n",
       "      <td>17.873900</td>\n",
       "    </tr>\n",
       "    <tr>\n",
       "      <th>...</th>\n",
       "      <td>...</td>\n",
       "      <td>...</td>\n",
       "      <td>...</td>\n",
       "      <td>...</td>\n",
       "      <td>...</td>\n",
       "      <td>...</td>\n",
       "      <td>...</td>\n",
       "    </tr>\n",
       "    <tr>\n",
       "      <th>196</th>\n",
       "      <td>West Bank and Gaza</td>\n",
       "      <td>5708</td>\n",
       "      <td>703228</td>\n",
       "      <td>5101416.0</td>\n",
       "      <td>NaN</td>\n",
       "      <td>31.952200</td>\n",
       "      <td>35.233200</td>\n",
       "    </tr>\n",
       "    <tr>\n",
       "      <th>197</th>\n",
       "      <td>Winter Olympics 2022</td>\n",
       "      <td>0</td>\n",
       "      <td>535</td>\n",
       "      <td>NaN</td>\n",
       "      <td>NaN</td>\n",
       "      <td>39.904200</td>\n",
       "      <td>116.407400</td>\n",
       "    </tr>\n",
       "    <tr>\n",
       "      <th>198</th>\n",
       "      <td>Yemen</td>\n",
       "      <td>2159</td>\n",
       "      <td>11945</td>\n",
       "      <td>29825968.0</td>\n",
       "      <td>24.422456</td>\n",
       "      <td>15.552727</td>\n",
       "      <td>48.516388</td>\n",
       "    </tr>\n",
       "    <tr>\n",
       "      <th>199</th>\n",
       "      <td>Zambia</td>\n",
       "      <td>4057</td>\n",
       "      <td>343135</td>\n",
       "      <td>18383956.0</td>\n",
       "      <td>36.726493</td>\n",
       "      <td>-13.133897</td>\n",
       "      <td>27.849332</td>\n",
       "    </tr>\n",
       "    <tr>\n",
       "      <th>200</th>\n",
       "      <td>Zimbabwe</td>\n",
       "      <td>5671</td>\n",
       "      <td>264276</td>\n",
       "      <td>14862927.0</td>\n",
       "      <td>54.868837</td>\n",
       "      <td>-19.015438</td>\n",
       "      <td>29.154857</td>\n",
       "    </tr>\n",
       "  </tbody>\n",
       "</table>\n",
       "<p>201 rows × 7 columns</p>\n",
       "</div>"
      ],
      "text/plain": [
       "                  Country  deaths   cases  Population  Containment        Lat  \\\n",
       "0             Afghanistan    7896  209451  38928341.0    30.294335  33.939110   \n",
       "1                 Albania    3598  334457   2877800.0    47.095619  41.153300   \n",
       "2                 Algeria    6881  271496  43851043.0    50.632912  28.033900   \n",
       "3                 Andorra     165   47890     77265.0    46.271070  42.506300   \n",
       "4                  Angola    1933  105288  32866268.0    50.021879 -11.202700   \n",
       "..                    ...     ...     ...         ...          ...        ...   \n",
       "196    West Bank and Gaza    5708  703228   5101416.0          NaN  31.952200   \n",
       "197  Winter Olympics 2022       0     535         NaN          NaN  39.904200   \n",
       "198                 Yemen    2159   11945  29825968.0    24.422456  15.552727   \n",
       "199                Zambia    4057  343135  18383956.0    36.726493 -13.133897   \n",
       "200              Zimbabwe    5671  264276  14862927.0    54.868837 -19.015438   \n",
       "\n",
       "           Long  \n",
       "0     67.709953  \n",
       "1     20.168300  \n",
       "2      1.659600  \n",
       "3      1.521800  \n",
       "4     17.873900  \n",
       "..          ...  \n",
       "196   35.233200  \n",
       "197  116.407400  \n",
       "198   48.516388  \n",
       "199   27.849332  \n",
       "200   29.154857  \n",
       "\n",
       "[201 rows x 7 columns]"
      ]
     },
     "execution_count": 73,
     "metadata": {},
     "output_type": "execute_result"
    }
   ],
   "source": [
    "global_sum"
   ]
  },
  {
   "cell_type": "code",
   "execution_count": 74,
   "id": "3b9a3081",
   "metadata": {},
   "outputs": [],
   "source": [
    "# Calculate 'Death per million' and assign it to a new column\n",
    "global_sum['death_per_million'] = (global_sum['deaths'] / global_sum['Population']) * 1000000"
   ]
  },
  {
   "cell_type": "code",
   "execution_count": 75,
   "id": "28d498bc",
   "metadata": {},
   "outputs": [],
   "source": [
    "# Calculate 'Cases per million' and assign it to a new column\n",
    "global_sum['cases_per_million'] = (global_sum['cases'] / global_sum['Population']) * 1000000"
   ]
  },
  {
   "cell_type": "code",
   "execution_count": 76,
   "id": "de7b9a87",
   "metadata": {},
   "outputs": [],
   "source": [
    "# Calculate 'percentage death per cases' and assign it to a new column\n",
    "global_sum['percent_death_per_cases'] = (global_sum['deaths'] / global_sum['cases']) * 100"
   ]
  },
  {
   "cell_type": "code",
   "execution_count": 77,
   "id": "f936bb4b",
   "metadata": {},
   "outputs": [
    {
     "name": "stderr",
     "output_type": "stream",
     "text": [
      "/var/folders/65/520qd96s3vbfvck0c8npy5j40000gn/T/ipykernel_11516/1901360828.py:5: SettingWithCopyWarning:\n",
      "\n",
      "\n",
      "A value is trying to be set on a copy of a slice from a DataFrame.\n",
      "Try using .loc[row_indexer,col_indexer] = value instead\n",
      "\n",
      "See the caveats in the documentation: https://pandas.pydata.org/pandas-docs/stable/user_guide/indexing.html#returning-a-view-versus-a-copy\n",
      "\n",
      "/var/folders/65/520qd96s3vbfvck0c8npy5j40000gn/T/ipykernel_11516/1901360828.py:6: SettingWithCopyWarning:\n",
      "\n",
      "\n",
      "A value is trying to be set on a copy of a slice from a DataFrame.\n",
      "Try using .loc[row_indexer,col_indexer] = value instead\n",
      "\n",
      "See the caveats in the documentation: https://pandas.pydata.org/pandas-docs/stable/user_guide/indexing.html#returning-a-view-versus-a-copy\n",
      "\n",
      "/var/folders/65/520qd96s3vbfvck0c8npy5j40000gn/T/ipykernel_11516/1901360828.py:7: SettingWithCopyWarning:\n",
      "\n",
      "\n",
      "A value is trying to be set on a copy of a slice from a DataFrame.\n",
      "Try using .loc[row_indexer,col_indexer] = value instead\n",
      "\n",
      "See the caveats in the documentation: https://pandas.pydata.org/pandas-docs/stable/user_guide/indexing.html#returning-a-view-versus-a-copy\n",
      "\n",
      "/var/folders/65/520qd96s3vbfvck0c8npy5j40000gn/T/ipykernel_11516/1901360828.py:8: SettingWithCopyWarning:\n",
      "\n",
      "\n",
      "A value is trying to be set on a copy of a slice from a DataFrame.\n",
      "Try using .loc[row_indexer,col_indexer] = value instead\n",
      "\n",
      "See the caveats in the documentation: https://pandas.pydata.org/pandas-docs/stable/user_guide/indexing.html#returning-a-view-versus-a-copy\n",
      "\n",
      "/var/folders/65/520qd96s3vbfvck0c8npy5j40000gn/T/ipykernel_11516/1901360828.py:9: SettingWithCopyWarning:\n",
      "\n",
      "\n",
      "A value is trying to be set on a copy of a slice from a DataFrame.\n",
      "Try using .loc[row_indexer,col_indexer] = value instead\n",
      "\n",
      "See the caveats in the documentation: https://pandas.pydata.org/pandas-docs/stable/user_guide/indexing.html#returning-a-view-versus-a-copy\n",
      "\n"
     ]
    }
   ],
   "source": [
    "# Deleting rows with no data\n",
    "global_sum = global_sum.dropna(how='any')\n",
    "\n",
    "# Round the 'death_per_million' column to 2 decimal places\n",
    "global_sum['death_per_million'] = global_sum['death_per_million'].round().astype(int)\n",
    "global_sum['cases_per_million'] = global_sum['cases_per_million'].round().astype(int)\n",
    "global_sum['Containment'] = global_sum['Containment'].round().astype(int)\n",
    "global_sum['Population'] = global_sum['Population'].round().astype(int)\n",
    "global_sum['percent_death_per_cases'] = global_sum['percent_death_per_cases'].round(1)\n",
    "\n"
   ]
  },
  {
   "cell_type": "code",
   "execution_count": 78,
   "id": "fb081173",
   "metadata": {},
   "outputs": [
    {
     "data": {
      "text/html": [
       "<div>\n",
       "<style scoped>\n",
       "    .dataframe tbody tr th:only-of-type {\n",
       "        vertical-align: middle;\n",
       "    }\n",
       "\n",
       "    .dataframe tbody tr th {\n",
       "        vertical-align: top;\n",
       "    }\n",
       "\n",
       "    .dataframe thead th {\n",
       "        text-align: right;\n",
       "    }\n",
       "</style>\n",
       "<table border=\"1\" class=\"dataframe\">\n",
       "  <thead>\n",
       "    <tr style=\"text-align: right;\">\n",
       "      <th></th>\n",
       "      <th>Country</th>\n",
       "      <th>deaths</th>\n",
       "      <th>cases</th>\n",
       "      <th>Population</th>\n",
       "      <th>Containment</th>\n",
       "      <th>Lat</th>\n",
       "      <th>Long</th>\n",
       "      <th>death_per_million</th>\n",
       "      <th>cases_per_million</th>\n",
       "      <th>percent_death_per_cases</th>\n",
       "    </tr>\n",
       "  </thead>\n",
       "  <tbody>\n",
       "    <tr>\n",
       "      <th>0</th>\n",
       "      <td>Afghanistan</td>\n",
       "      <td>7896</td>\n",
       "      <td>209451</td>\n",
       "      <td>38928341</td>\n",
       "      <td>30</td>\n",
       "      <td>33.939110</td>\n",
       "      <td>67.709953</td>\n",
       "      <td>203</td>\n",
       "      <td>5380</td>\n",
       "      <td>3.8</td>\n",
       "    </tr>\n",
       "    <tr>\n",
       "      <th>1</th>\n",
       "      <td>Albania</td>\n",
       "      <td>3598</td>\n",
       "      <td>334457</td>\n",
       "      <td>2877800</td>\n",
       "      <td>47</td>\n",
       "      <td>41.153300</td>\n",
       "      <td>20.168300</td>\n",
       "      <td>1250</td>\n",
       "      <td>116220</td>\n",
       "      <td>1.1</td>\n",
       "    </tr>\n",
       "    <tr>\n",
       "      <th>2</th>\n",
       "      <td>Algeria</td>\n",
       "      <td>6881</td>\n",
       "      <td>271496</td>\n",
       "      <td>43851043</td>\n",
       "      <td>51</td>\n",
       "      <td>28.033900</td>\n",
       "      <td>1.659600</td>\n",
       "      <td>157</td>\n",
       "      <td>6191</td>\n",
       "      <td>2.5</td>\n",
       "    </tr>\n",
       "    <tr>\n",
       "      <th>3</th>\n",
       "      <td>Andorra</td>\n",
       "      <td>165</td>\n",
       "      <td>47890</td>\n",
       "      <td>77265</td>\n",
       "      <td>46</td>\n",
       "      <td>42.506300</td>\n",
       "      <td>1.521800</td>\n",
       "      <td>2136</td>\n",
       "      <td>619815</td>\n",
       "      <td>0.3</td>\n",
       "    </tr>\n",
       "    <tr>\n",
       "      <th>4</th>\n",
       "      <td>Angola</td>\n",
       "      <td>1933</td>\n",
       "      <td>105288</td>\n",
       "      <td>32866268</td>\n",
       "      <td>50</td>\n",
       "      <td>-11.202700</td>\n",
       "      <td>17.873900</td>\n",
       "      <td>59</td>\n",
       "      <td>3204</td>\n",
       "      <td>1.8</td>\n",
       "    </tr>\n",
       "    <tr>\n",
       "      <th>...</th>\n",
       "      <td>...</td>\n",
       "      <td>...</td>\n",
       "      <td>...</td>\n",
       "      <td>...</td>\n",
       "      <td>...</td>\n",
       "      <td>...</td>\n",
       "      <td>...</td>\n",
       "      <td>...</td>\n",
       "      <td>...</td>\n",
       "      <td>...</td>\n",
       "    </tr>\n",
       "    <tr>\n",
       "      <th>194</th>\n",
       "      <td>Venezuela</td>\n",
       "      <td>5854</td>\n",
       "      <td>552162</td>\n",
       "      <td>28435943</td>\n",
       "      <td>53</td>\n",
       "      <td>6.423800</td>\n",
       "      <td>-66.589700</td>\n",
       "      <td>206</td>\n",
       "      <td>19418</td>\n",
       "      <td>1.1</td>\n",
       "    </tr>\n",
       "    <tr>\n",
       "      <th>195</th>\n",
       "      <td>Vietnam</td>\n",
       "      <td>43186</td>\n",
       "      <td>11526994</td>\n",
       "      <td>97338583</td>\n",
       "      <td>59</td>\n",
       "      <td>14.058324</td>\n",
       "      <td>108.277199</td>\n",
       "      <td>444</td>\n",
       "      <td>118422</td>\n",
       "      <td>0.4</td>\n",
       "    </tr>\n",
       "    <tr>\n",
       "      <th>198</th>\n",
       "      <td>Yemen</td>\n",
       "      <td>2159</td>\n",
       "      <td>11945</td>\n",
       "      <td>29825968</td>\n",
       "      <td>24</td>\n",
       "      <td>15.552727</td>\n",
       "      <td>48.516388</td>\n",
       "      <td>72</td>\n",
       "      <td>400</td>\n",
       "      <td>18.1</td>\n",
       "    </tr>\n",
       "    <tr>\n",
       "      <th>199</th>\n",
       "      <td>Zambia</td>\n",
       "      <td>4057</td>\n",
       "      <td>343135</td>\n",
       "      <td>18383956</td>\n",
       "      <td>37</td>\n",
       "      <td>-13.133897</td>\n",
       "      <td>27.849332</td>\n",
       "      <td>221</td>\n",
       "      <td>18665</td>\n",
       "      <td>1.2</td>\n",
       "    </tr>\n",
       "    <tr>\n",
       "      <th>200</th>\n",
       "      <td>Zimbabwe</td>\n",
       "      <td>5671</td>\n",
       "      <td>264276</td>\n",
       "      <td>14862927</td>\n",
       "      <td>55</td>\n",
       "      <td>-19.015438</td>\n",
       "      <td>29.154857</td>\n",
       "      <td>382</td>\n",
       "      <td>17781</td>\n",
       "      <td>2.1</td>\n",
       "    </tr>\n",
       "  </tbody>\n",
       "</table>\n",
       "<p>164 rows × 10 columns</p>\n",
       "</div>"
      ],
      "text/plain": [
       "         Country  deaths     cases  Population  Containment        Lat  \\\n",
       "0    Afghanistan    7896    209451    38928341           30  33.939110   \n",
       "1        Albania    3598    334457     2877800           47  41.153300   \n",
       "2        Algeria    6881    271496    43851043           51  28.033900   \n",
       "3        Andorra     165     47890       77265           46  42.506300   \n",
       "4         Angola    1933    105288    32866268           50 -11.202700   \n",
       "..           ...     ...       ...         ...          ...        ...   \n",
       "194    Venezuela    5854    552162    28435943           53   6.423800   \n",
       "195      Vietnam   43186  11526994    97338583           59  14.058324   \n",
       "198        Yemen    2159     11945    29825968           24  15.552727   \n",
       "199       Zambia    4057    343135    18383956           37 -13.133897   \n",
       "200     Zimbabwe    5671    264276    14862927           55 -19.015438   \n",
       "\n",
       "           Long  death_per_million  cases_per_million  percent_death_per_cases  \n",
       "0     67.709953                203               5380                      3.8  \n",
       "1     20.168300               1250             116220                      1.1  \n",
       "2      1.659600                157               6191                      2.5  \n",
       "3      1.521800               2136             619815                      0.3  \n",
       "4     17.873900                 59               3204                      1.8  \n",
       "..          ...                ...                ...                      ...  \n",
       "194  -66.589700                206              19418                      1.1  \n",
       "195  108.277199                444             118422                      0.4  \n",
       "198   48.516388                 72                400                     18.1  \n",
       "199   27.849332                221              18665                      1.2  \n",
       "200   29.154857                382              17781                      2.1  \n",
       "\n",
       "[164 rows x 10 columns]"
      ]
     },
     "execution_count": 78,
     "metadata": {},
     "output_type": "execute_result"
    }
   ],
   "source": [
    "global_sum"
   ]
  },
  {
   "cell_type": "code",
   "execution_count": 124,
   "id": "b15dbdfb",
   "metadata": {},
   "outputs": [],
   "source": [
    "df = pd.DataFrame(global_sum)"
   ]
  },
  {
   "cell_type": "code",
   "execution_count": 134,
   "id": "49cf18fe",
   "metadata": {},
   "outputs": [
    {
     "data": {
      "application/vnd.plotly.v1+json": {
       "config": {
        "plotlyServerURL": "https://plot.ly"
       },
       "data": [
        {
         "geo": "geo",
         "hovertemplate": "Country: %{hovertext}<br>Death Rate: %{marker.size}<br>Containment: %{marker.color}",
         "hovertext": [
          "Afghanistan",
          "Albania",
          "Algeria",
          "Andorra",
          "Angola",
          "Argentina",
          "Australia",
          "Austria",
          "Azerbaijan",
          "Bahamas",
          "Bahrain",
          "Bangladesh",
          "Barbados",
          "Belarus",
          "Belgium",
          "Belize",
          "Benin",
          "Bhutan",
          "Bolivia",
          "Bosnia and Herzegovina",
          "Botswana",
          "Brazil",
          "Brunei",
          "Bulgaria",
          "Burkina Faso",
          "Burundi",
          "Cambodia",
          "Cameroon",
          "Canada",
          "Central African Republic",
          "Chad",
          "Chile",
          "China",
          "Colombia",
          "Costa Rica",
          "Cote d'Ivoire",
          "Croatia",
          "Cuba",
          "Cyprus",
          "Denmark",
          "Djibouti",
          "Dominica",
          "Dominican Republic",
          "Ecuador",
          "Egypt",
          "El Salvador",
          "Eritrea",
          "Estonia",
          "Eswatini",
          "Ethiopia",
          "Fiji",
          "Finland",
          "France",
          "Gabon",
          "Gambia",
          "Georgia",
          "Germany",
          "Ghana",
          "Greece",
          "Guatemala",
          "Guinea",
          "Guyana",
          "Haiti",
          "Honduras",
          "Hungary",
          "Iceland",
          "India",
          "Indonesia",
          "Iran",
          "Iraq",
          "Ireland",
          "Israel",
          "Italy",
          "Jamaica",
          "Japan",
          "Jordan",
          "Kazakhstan",
          "Kenya",
          "Kiribati",
          "Kosovo",
          "Kuwait",
          "Laos",
          "Latvia",
          "Lebanon",
          "Lesotho",
          "Liberia",
          "Libya",
          "Liechtenstein",
          "Lithuania",
          "Luxembourg",
          "Madagascar",
          "Malawi",
          "Malaysia",
          "Mali",
          "Malta",
          "Mauritania",
          "Mauritius",
          "Mexico",
          "Moldova",
          "Monaco",
          "Mongolia",
          "Morocco",
          "Mozambique",
          "Namibia",
          "Nepal",
          "Netherlands",
          "New Zealand",
          "Nicaragua",
          "Niger",
          "Nigeria",
          "Norway",
          "Oman",
          "Pakistan",
          "Panama",
          "Papua New Guinea",
          "Paraguay",
          "Peru",
          "Philippines",
          "Poland",
          "Portugal",
          "Qatar",
          "Romania",
          "Russia",
          "Rwanda",
          "San Marino",
          "Saudi Arabia",
          "Senegal",
          "Serbia",
          "Seychelles",
          "Sierra Leone",
          "Singapore",
          "Slovenia",
          "Solomon Islands",
          "Somalia",
          "South Africa",
          "South Sudan",
          "Spain",
          "Sri Lanka",
          "Sudan",
          "Suriname",
          "Sweden",
          "Switzerland",
          "Syria",
          "Tajikistan",
          "Tanzania",
          "Thailand",
          "Timor-Leste",
          "Togo",
          "Tonga",
          "Trinidad and Tobago",
          "Tunisia",
          "Turkey",
          "Uganda",
          "Ukraine",
          "United Arab Emirates",
          "United Kingdom",
          "Uruguay",
          "Uzbekistan",
          "Vanuatu",
          "Venezuela",
          "Vietnam",
          "Yemen",
          "Zambia",
          "Zimbabwe"
         ],
         "lat": [
          33.93911,
          41.1533,
          28.0339,
          42.5063,
          -11.2027,
          -38.4161,
          -12.4634,
          47.5162,
          40.1431,
          25.025885,
          26.0275,
          23.685,
          13.1939,
          53.7098,
          50.8333,
          17.1899,
          9.3077,
          27.5142,
          -16.2902,
          43.9159,
          -22.3285,
          -14.235,
          4.5353,
          42.7339,
          12.2383,
          -3.3731,
          11.55,
          3.848,
          70.2998,
          6.6111,
          15.4542,
          -35.6751,
          47.862,
          4.5709,
          9.7489,
          7.54,
          45.1,
          21.521757,
          35.1264,
          71.7069,
          11.8251,
          15.415,
          18.7357,
          -1.8312,
          26.820553,
          13.7942,
          15.1794,
          58.5953,
          -26.5225,
          9.145,
          -17.7134,
          61.92411,
          46.8852,
          -0.8037,
          13.4432,
          42.3154,
          51.165691,
          7.9465,
          39.0742,
          15.7835,
          9.9456,
          4.860416,
          18.9712,
          15.2,
          47.1625,
          64.9631,
          20.593684,
          -0.7893,
          32.427908,
          33.223191,
          53.1424,
          31.046051,
          41.87194,
          18.1096,
          36.204824,
          31.24,
          48.0196,
          -0.0236,
          -3.3704,
          42.602636,
          29.31166,
          19.85627,
          56.8796,
          33.8547,
          -29.61,
          6.428055,
          26.3351,
          47.14,
          55.1694,
          49.8153,
          -18.766947,
          -13.2543,
          4.210484,
          17.570692,
          35.9375,
          21.0079,
          -20.348404,
          23.6345,
          47.4116,
          43.7333,
          46.8625,
          31.7917,
          -18.665695,
          -22.9576,
          28.1667,
          52.1326,
          -19.0544,
          12.865416,
          17.607789,
          9.082,
          60.472,
          21.512583,
          30.3753,
          8.538,
          -6.314993,
          -23.4425,
          -9.19,
          12.879721,
          51.9194,
          39.3999,
          25.3548,
          45.9432,
          61.52401,
          -1.9403,
          43.9424,
          23.885942,
          14.4974,
          44.0165,
          -4.6796,
          8.460555,
          1.2833,
          46.1512,
          -9.6457,
          5.152149,
          -30.5595,
          6.877,
          40.463667,
          7.873054,
          12.8628,
          3.9193,
          60.128161,
          46.8182,
          34.802075,
          38.861,
          -6.369028,
          15.870032,
          -8.874217,
          8.6195,
          -21.179,
          10.6918,
          33.886917,
          38.9637,
          1.373333,
          48.3794,
          23.424076,
          55.3781,
          -32.5228,
          41.377491,
          -15.3767,
          6.4238,
          14.058324,
          15.552727,
          -13.133897,
          -19.015438
         ],
         "legendgroup": "",
         "lon": [
          67.709953,
          20.1683,
          1.6596,
          1.5218,
          17.8739,
          -63.6167,
          153.0251,
          14.5501,
          47.5769,
          -78.035889,
          50.55,
          90.3563,
          -59.5432,
          27.9534,
          4.469936,
          -88.4976,
          2.3158,
          90.4336,
          -63.5887,
          17.6791,
          24.6849,
          -51.9253,
          114.7277,
          25.4858,
          -1.5616,
          29.9189,
          104.9167,
          11.5021,
          0,
          20.9394,
          18.7322,
          -71.543,
          127.7615,
          -74.2973,
          -83.7534,
          -5.5471,
          15.2,
          -77.781167,
          33.4299,
          9.5018,
          42.5903,
          -61.371,
          -70.1627,
          -78.1834,
          30.802498,
          -88.8965,
          39.7823,
          25.0136,
          31.4659,
          40.4897,
          178.065,
          25.748151,
          165.618042,
          11.6094,
          -15.3101,
          43.3569,
          10.451526,
          -1.0232,
          21.8243,
          -90.2308,
          -9.6966,
          -58.93018,
          -72.2852,
          -86.2419,
          19.5033,
          -19.0208,
          78.96288,
          113.9213,
          53.688046,
          43.679291,
          -7.6921,
          34.851612,
          12.56738,
          -77.2975,
          138.252924,
          36.51,
          66.9237,
          37.9062,
          -168.734,
          20.902977,
          47.481766,
          102.495496,
          24.6032,
          35.8623,
          28.2336,
          -9.429499,
          17.228331,
          9.55,
          23.8813,
          6.1296,
          46.869107,
          34.3015,
          101.975766,
          -3.996166,
          14.3754,
          -10.9408,
          57.552152,
          -102.5528,
          28.3699,
          7.4167,
          103.8467,
          -7.0926,
          35.529562,
          18.4904,
          84.25,
          5.2913,
          174.886,
          -85.207229,
          8.081666,
          8.6753,
          8.4689,
          55.923255,
          69.3451,
          -80.7821,
          143.95555,
          -58.4438,
          -75.0152,
          121.774017,
          19.1451,
          -8.2245,
          51.1839,
          24.9668,
          105.318756,
          29.8739,
          12.4578,
          45.079162,
          -14.4524,
          21.0059,
          55.492,
          -11.779889,
          103.8333,
          14.9955,
          160.1562,
          46.199616,
          22.9375,
          31.307,
          -3.74922,
          80.771797,
          30.2176,
          -56.0278,
          18.643501,
          8.2275,
          38.996815,
          71.2761,
          34.888822,
          100.992541,
          125.727539,
          0.8248,
          -175.1982,
          -61.2225,
          9.537499,
          35.2433,
          32.290275,
          31.1656,
          53.847818,
          -2.1358,
          -55.7658,
          64.585262,
          166.9592,
          -66.5897,
          108.277199,
          48.516388,
          27.849332,
          29.154857
         ],
         "marker": {
          "color": [
           30,
           47,
           51,
           46,
           50,
           56,
           52,
           60,
           60,
           58,
           51,
           54,
           55,
           32,
           51,
           52,
           38,
           57,
           48,
           43,
           42,
           48,
           49,
           41,
           31,
           20,
           46,
           36,
           51,
           28,
           41,
           58,
           62,
           56,
           47,
           35,
           44,
           52,
           55,
           42,
           43,
           50,
           50,
           54,
           46,
           45,
           54,
           38,
           52,
           49,
           57,
           42,
           51,
           48,
           42,
           48,
           54,
           46,
           59,
           54,
           54,
           57,
           46,
           63,
           43,
           38,
           55,
           57,
           54,
           56,
           49,
           54,
           63,
           58,
           45,
           45,
           52,
           55,
           28,
           49,
           48,
           52,
           39,
           54,
           45,
           51,
           52,
           43,
           43,
           49,
           40,
           43,
           56,
           44,
           51,
           41,
           44,
           47,
           47,
           48,
           47,
           56,
           45,
           44,
           53,
           50,
           44,
           19,
           29,
           46,
           41,
           51,
           56,
           56,
           48,
           47,
           57,
           64,
           43,
           51,
           58,
           50,
           48,
           58,
           39,
           54,
           39,
           45,
           52,
           49,
           58,
           48,
           34,
           36,
           52,
           42,
           49,
           58,
           32,
           55,
           39,
           44,
           36,
           30,
           18,
           46,
           40,
           47,
           43,
           54,
           51,
           47,
           54,
           47,
           53,
           46,
           46,
           41,
           32,
           53,
           59,
           24,
           37,
           55
          ],
          "coloraxis": "coloraxis",
          "size": [
           3.8,
           1.1,
           2.5,
           0.3,
           1.8,
           1.3,
           0.2,
           0.4,
           1.2,
           2.2,
           0.2,
           1.4,
           0.5,
           0.7,
           0.7,
           1,
           0.6,
           0,
           1.9,
           4.1,
           0.9,
           1.9,
           0.1,
           2.9,
           1.8,
           0.1,
           2.2,
           1.6,
           1.1,
           0.7,
           2.5,
           1.2,
           2.9,
           2.2,
           0.8,
           0.9,
           1.4,
           0.8,
           0.2,
           0.2,
           1.2,
           0.5,
           0.7,
           3.4,
           4.8,
           2.1,
           1,
           0.5,
           1.9,
           1.5,
           1.3,
           0.6,
           0.4,
           0.6,
           3,
           0.9,
           0.4,
           0.9,
           0.6,
           1.6,
           1.2,
           1.8,
           2.5,
           2.4,
           2.2,
           0.1,
           1.2,
           2.4,
           1.9,
           1,
           0.5,
           0.3,
           0.7,
           2.3,
           0.2,
           0.8,
           1.3,
           1.7,
           0.4,
           1.2,
           0.4,
           0.3,
           0.6,
           0.9,
           2.1,
           3.6,
           1.3,
           0.4,
           0.7,
           0.4,
           2.1,
           3.3,
           0.7,
           2.2,
           0.7,
           1.6,
           0.4,
           4.5,
           2,
           0.4,
           0.2,
           1.3,
           1,
           2.4,
           1.2,
           0.3,
           0.1,
           1.6,
           3.3,
           1.2,
           0.4,
           1.2,
           1.9,
           0.8,
           1.4,
           2.5,
           4.9,
           1.6,
           1.8,
           0.5,
           0.1,
           2,
           1.8,
           1.1,
           0.5,
           1.2,
           2.2,
           0.7,
           0.3,
           1.6,
           0.1,
           0.5,
           0.6,
           5,
           2.5,
           0.8,
           0.9,
           2.5,
           7.9,
           1.7,
           0.9,
           0.3,
           5.5,
           0.7,
           2,
           0.7,
           0.6,
           0.7,
           0.1,
           2.3,
           2.5,
           0.6,
           2.1,
           2.1,
           0.2,
           0.9,
           0.7,
           0.7,
           0.1,
           1.1,
           0.4,
           18.1,
           1.2,
           2.1
          ],
          "sizemode": "area",
          "sizeref": 0.045250000000000005,
          "symbol": "circle"
         },
         "mode": "markers",
         "name": "",
         "showlegend": false,
         "type": "scattergeo"
        }
       ],
       "layout": {
        "annotations": [
         {
          "bgcolor": "white",
          "bordercolor": "black",
          "borderwidth": 1,
          "font": {
           "size": 12
          },
          "showarrow": false,
          "text": "Circle Size Represents<br>Death Rate (%)",
          "x": 0.95,
          "xanchor": "left",
          "xref": "paper",
          "y": 1.1,
          "yanchor": "top",
          "yref": "paper"
         }
        ],
        "coloraxis": {
         "colorbar": {
          "title": {
           "text": "Containment"
          }
         },
         "colorscale": [
          [
           0,
           "#000004"
          ],
          [
           0.1111111111111111,
           "#1b0c41"
          ],
          [
           0.2222222222222222,
           "#4a0c6b"
          ],
          [
           0.3333333333333333,
           "#781c6d"
          ],
          [
           0.4444444444444444,
           "#a52c60"
          ],
          [
           0.5555555555555556,
           "#cf4446"
          ],
          [
           0.6666666666666666,
           "#ed6925"
          ],
          [
           0.7777777777777778,
           "#fb9b06"
          ],
          [
           0.8888888888888888,
           "#f7d13d"
          ],
          [
           1,
           "#fcffa4"
          ]
         ]
        },
        "geo": {
         "center": {},
         "domain": {
          "x": [
           0,
           1
          ],
          "y": [
           0,
           1
          ]
         },
         "projection": {
          "type": "natural earth"
         }
        },
        "legend": {
         "itemsizing": "constant",
         "tracegroupgap": 0
        },
        "template": {
         "data": {
          "bar": [
           {
            "error_x": {
             "color": "#2a3f5f"
            },
            "error_y": {
             "color": "#2a3f5f"
            },
            "marker": {
             "line": {
              "color": "#E5ECF6",
              "width": 0.5
             },
             "pattern": {
              "fillmode": "overlay",
              "size": 10,
              "solidity": 0.2
             }
            },
            "type": "bar"
           }
          ],
          "barpolar": [
           {
            "marker": {
             "line": {
              "color": "#E5ECF6",
              "width": 0.5
             },
             "pattern": {
              "fillmode": "overlay",
              "size": 10,
              "solidity": 0.2
             }
            },
            "type": "barpolar"
           }
          ],
          "carpet": [
           {
            "aaxis": {
             "endlinecolor": "#2a3f5f",
             "gridcolor": "white",
             "linecolor": "white",
             "minorgridcolor": "white",
             "startlinecolor": "#2a3f5f"
            },
            "baxis": {
             "endlinecolor": "#2a3f5f",
             "gridcolor": "white",
             "linecolor": "white",
             "minorgridcolor": "white",
             "startlinecolor": "#2a3f5f"
            },
            "type": "carpet"
           }
          ],
          "choropleth": [
           {
            "colorbar": {
             "outlinewidth": 0,
             "ticks": ""
            },
            "type": "choropleth"
           }
          ],
          "contour": [
           {
            "colorbar": {
             "outlinewidth": 0,
             "ticks": ""
            },
            "colorscale": [
             [
              0,
              "#0d0887"
             ],
             [
              0.1111111111111111,
              "#46039f"
             ],
             [
              0.2222222222222222,
              "#7201a8"
             ],
             [
              0.3333333333333333,
              "#9c179e"
             ],
             [
              0.4444444444444444,
              "#bd3786"
             ],
             [
              0.5555555555555556,
              "#d8576b"
             ],
             [
              0.6666666666666666,
              "#ed7953"
             ],
             [
              0.7777777777777778,
              "#fb9f3a"
             ],
             [
              0.8888888888888888,
              "#fdca26"
             ],
             [
              1,
              "#f0f921"
             ]
            ],
            "type": "contour"
           }
          ],
          "contourcarpet": [
           {
            "colorbar": {
             "outlinewidth": 0,
             "ticks": ""
            },
            "type": "contourcarpet"
           }
          ],
          "heatmap": [
           {
            "colorbar": {
             "outlinewidth": 0,
             "ticks": ""
            },
            "colorscale": [
             [
              0,
              "#0d0887"
             ],
             [
              0.1111111111111111,
              "#46039f"
             ],
             [
              0.2222222222222222,
              "#7201a8"
             ],
             [
              0.3333333333333333,
              "#9c179e"
             ],
             [
              0.4444444444444444,
              "#bd3786"
             ],
             [
              0.5555555555555556,
              "#d8576b"
             ],
             [
              0.6666666666666666,
              "#ed7953"
             ],
             [
              0.7777777777777778,
              "#fb9f3a"
             ],
             [
              0.8888888888888888,
              "#fdca26"
             ],
             [
              1,
              "#f0f921"
             ]
            ],
            "type": "heatmap"
           }
          ],
          "heatmapgl": [
           {
            "colorbar": {
             "outlinewidth": 0,
             "ticks": ""
            },
            "colorscale": [
             [
              0,
              "#0d0887"
             ],
             [
              0.1111111111111111,
              "#46039f"
             ],
             [
              0.2222222222222222,
              "#7201a8"
             ],
             [
              0.3333333333333333,
              "#9c179e"
             ],
             [
              0.4444444444444444,
              "#bd3786"
             ],
             [
              0.5555555555555556,
              "#d8576b"
             ],
             [
              0.6666666666666666,
              "#ed7953"
             ],
             [
              0.7777777777777778,
              "#fb9f3a"
             ],
             [
              0.8888888888888888,
              "#fdca26"
             ],
             [
              1,
              "#f0f921"
             ]
            ],
            "type": "heatmapgl"
           }
          ],
          "histogram": [
           {
            "marker": {
             "pattern": {
              "fillmode": "overlay",
              "size": 10,
              "solidity": 0.2
             }
            },
            "type": "histogram"
           }
          ],
          "histogram2d": [
           {
            "colorbar": {
             "outlinewidth": 0,
             "ticks": ""
            },
            "colorscale": [
             [
              0,
              "#0d0887"
             ],
             [
              0.1111111111111111,
              "#46039f"
             ],
             [
              0.2222222222222222,
              "#7201a8"
             ],
             [
              0.3333333333333333,
              "#9c179e"
             ],
             [
              0.4444444444444444,
              "#bd3786"
             ],
             [
              0.5555555555555556,
              "#d8576b"
             ],
             [
              0.6666666666666666,
              "#ed7953"
             ],
             [
              0.7777777777777778,
              "#fb9f3a"
             ],
             [
              0.8888888888888888,
              "#fdca26"
             ],
             [
              1,
              "#f0f921"
             ]
            ],
            "type": "histogram2d"
           }
          ],
          "histogram2dcontour": [
           {
            "colorbar": {
             "outlinewidth": 0,
             "ticks": ""
            },
            "colorscale": [
             [
              0,
              "#0d0887"
             ],
             [
              0.1111111111111111,
              "#46039f"
             ],
             [
              0.2222222222222222,
              "#7201a8"
             ],
             [
              0.3333333333333333,
              "#9c179e"
             ],
             [
              0.4444444444444444,
              "#bd3786"
             ],
             [
              0.5555555555555556,
              "#d8576b"
             ],
             [
              0.6666666666666666,
              "#ed7953"
             ],
             [
              0.7777777777777778,
              "#fb9f3a"
             ],
             [
              0.8888888888888888,
              "#fdca26"
             ],
             [
              1,
              "#f0f921"
             ]
            ],
            "type": "histogram2dcontour"
           }
          ],
          "mesh3d": [
           {
            "colorbar": {
             "outlinewidth": 0,
             "ticks": ""
            },
            "type": "mesh3d"
           }
          ],
          "parcoords": [
           {
            "line": {
             "colorbar": {
              "outlinewidth": 0,
              "ticks": ""
             }
            },
            "type": "parcoords"
           }
          ],
          "pie": [
           {
            "automargin": true,
            "type": "pie"
           }
          ],
          "scatter": [
           {
            "marker": {
             "colorbar": {
              "outlinewidth": 0,
              "ticks": ""
             }
            },
            "type": "scatter"
           }
          ],
          "scatter3d": [
           {
            "line": {
             "colorbar": {
              "outlinewidth": 0,
              "ticks": ""
             }
            },
            "marker": {
             "colorbar": {
              "outlinewidth": 0,
              "ticks": ""
             }
            },
            "type": "scatter3d"
           }
          ],
          "scattercarpet": [
           {
            "marker": {
             "colorbar": {
              "outlinewidth": 0,
              "ticks": ""
             }
            },
            "type": "scattercarpet"
           }
          ],
          "scattergeo": [
           {
            "marker": {
             "colorbar": {
              "outlinewidth": 0,
              "ticks": ""
             }
            },
            "type": "scattergeo"
           }
          ],
          "scattergl": [
           {
            "marker": {
             "colorbar": {
              "outlinewidth": 0,
              "ticks": ""
             }
            },
            "type": "scattergl"
           }
          ],
          "scattermapbox": [
           {
            "marker": {
             "colorbar": {
              "outlinewidth": 0,
              "ticks": ""
             }
            },
            "type": "scattermapbox"
           }
          ],
          "scatterpolar": [
           {
            "marker": {
             "colorbar": {
              "outlinewidth": 0,
              "ticks": ""
             }
            },
            "type": "scatterpolar"
           }
          ],
          "scatterpolargl": [
           {
            "marker": {
             "colorbar": {
              "outlinewidth": 0,
              "ticks": ""
             }
            },
            "type": "scatterpolargl"
           }
          ],
          "scatterternary": [
           {
            "marker": {
             "colorbar": {
              "outlinewidth": 0,
              "ticks": ""
             }
            },
            "type": "scatterternary"
           }
          ],
          "surface": [
           {
            "colorbar": {
             "outlinewidth": 0,
             "ticks": ""
            },
            "colorscale": [
             [
              0,
              "#0d0887"
             ],
             [
              0.1111111111111111,
              "#46039f"
             ],
             [
              0.2222222222222222,
              "#7201a8"
             ],
             [
              0.3333333333333333,
              "#9c179e"
             ],
             [
              0.4444444444444444,
              "#bd3786"
             ],
             [
              0.5555555555555556,
              "#d8576b"
             ],
             [
              0.6666666666666666,
              "#ed7953"
             ],
             [
              0.7777777777777778,
              "#fb9f3a"
             ],
             [
              0.8888888888888888,
              "#fdca26"
             ],
             [
              1,
              "#f0f921"
             ]
            ],
            "type": "surface"
           }
          ],
          "table": [
           {
            "cells": {
             "fill": {
              "color": "#EBF0F8"
             },
             "line": {
              "color": "white"
             }
            },
            "header": {
             "fill": {
              "color": "#C8D4E3"
             },
             "line": {
              "color": "white"
             }
            },
            "type": "table"
           }
          ]
         },
         "layout": {
          "annotationdefaults": {
           "arrowcolor": "#2a3f5f",
           "arrowhead": 0,
           "arrowwidth": 1
          },
          "autotypenumbers": "strict",
          "coloraxis": {
           "colorbar": {
            "outlinewidth": 0,
            "ticks": ""
           }
          },
          "colorscale": {
           "diverging": [
            [
             0,
             "#8e0152"
            ],
            [
             0.1,
             "#c51b7d"
            ],
            [
             0.2,
             "#de77ae"
            ],
            [
             0.3,
             "#f1b6da"
            ],
            [
             0.4,
             "#fde0ef"
            ],
            [
             0.5,
             "#f7f7f7"
            ],
            [
             0.6,
             "#e6f5d0"
            ],
            [
             0.7,
             "#b8e186"
            ],
            [
             0.8,
             "#7fbc41"
            ],
            [
             0.9,
             "#4d9221"
            ],
            [
             1,
             "#276419"
            ]
           ],
           "sequential": [
            [
             0,
             "#0d0887"
            ],
            [
             0.1111111111111111,
             "#46039f"
            ],
            [
             0.2222222222222222,
             "#7201a8"
            ],
            [
             0.3333333333333333,
             "#9c179e"
            ],
            [
             0.4444444444444444,
             "#bd3786"
            ],
            [
             0.5555555555555556,
             "#d8576b"
            ],
            [
             0.6666666666666666,
             "#ed7953"
            ],
            [
             0.7777777777777778,
             "#fb9f3a"
            ],
            [
             0.8888888888888888,
             "#fdca26"
            ],
            [
             1,
             "#f0f921"
            ]
           ],
           "sequentialminus": [
            [
             0,
             "#0d0887"
            ],
            [
             0.1111111111111111,
             "#46039f"
            ],
            [
             0.2222222222222222,
             "#7201a8"
            ],
            [
             0.3333333333333333,
             "#9c179e"
            ],
            [
             0.4444444444444444,
             "#bd3786"
            ],
            [
             0.5555555555555556,
             "#d8576b"
            ],
            [
             0.6666666666666666,
             "#ed7953"
            ],
            [
             0.7777777777777778,
             "#fb9f3a"
            ],
            [
             0.8888888888888888,
             "#fdca26"
            ],
            [
             1,
             "#f0f921"
            ]
           ]
          },
          "colorway": [
           "#636efa",
           "#EF553B",
           "#00cc96",
           "#ab63fa",
           "#FFA15A",
           "#19d3f3",
           "#FF6692",
           "#B6E880",
           "#FF97FF",
           "#FECB52"
          ],
          "font": {
           "color": "#2a3f5f"
          },
          "geo": {
           "bgcolor": "white",
           "lakecolor": "white",
           "landcolor": "#E5ECF6",
           "showlakes": true,
           "showland": true,
           "subunitcolor": "white"
          },
          "hoverlabel": {
           "align": "left"
          },
          "hovermode": "closest",
          "mapbox": {
           "style": "light"
          },
          "paper_bgcolor": "white",
          "plot_bgcolor": "#E5ECF6",
          "polar": {
           "angularaxis": {
            "gridcolor": "white",
            "linecolor": "white",
            "ticks": ""
           },
           "bgcolor": "#E5ECF6",
           "radialaxis": {
            "gridcolor": "white",
            "linecolor": "white",
            "ticks": ""
           }
          },
          "scene": {
           "xaxis": {
            "backgroundcolor": "#E5ECF6",
            "gridcolor": "white",
            "gridwidth": 2,
            "linecolor": "white",
            "showbackground": true,
            "ticks": "",
            "zerolinecolor": "white"
           },
           "yaxis": {
            "backgroundcolor": "#E5ECF6",
            "gridcolor": "white",
            "gridwidth": 2,
            "linecolor": "white",
            "showbackground": true,
            "ticks": "",
            "zerolinecolor": "white"
           },
           "zaxis": {
            "backgroundcolor": "#E5ECF6",
            "gridcolor": "white",
            "gridwidth": 2,
            "linecolor": "white",
            "showbackground": true,
            "ticks": "",
            "zerolinecolor": "white"
           }
          },
          "shapedefaults": {
           "line": {
            "color": "#2a3f5f"
           }
          },
          "ternary": {
           "aaxis": {
            "gridcolor": "white",
            "linecolor": "white",
            "ticks": ""
           },
           "baxis": {
            "gridcolor": "white",
            "linecolor": "white",
            "ticks": ""
           },
           "bgcolor": "#E5ECF6",
           "caxis": {
            "gridcolor": "white",
            "linecolor": "white",
            "ticks": ""
           }
          },
          "title": {
           "x": 0.05
          },
          "xaxis": {
           "automargin": true,
           "gridcolor": "white",
           "linecolor": "white",
           "ticks": "",
           "title": {
            "standoff": 15
           },
           "zerolinecolor": "white",
           "zerolinewidth": 2
          },
          "yaxis": {
           "automargin": true,
           "gridcolor": "white",
           "linecolor": "white",
           "ticks": "",
           "title": {
            "standoff": 15
           },
           "zerolinecolor": "white",
           "zerolinewidth": 2
          }
         }
        },
        "title": {
         "text": "World Map with Covid_19 Data "
        }
       }
      },
      "text/html": [
       "<div>                            <div id=\"9deef813-94be-4f23-ad87-d4a7a62487f5\" class=\"plotly-graph-div\" style=\"height:525px; width:100%;\"></div>            <script type=\"text/javascript\">                require([\"plotly\"], function(Plotly) {                    window.PLOTLYENV=window.PLOTLYENV || {};                                    if (document.getElementById(\"9deef813-94be-4f23-ad87-d4a7a62487f5\")) {                    Plotly.newPlot(                        \"9deef813-94be-4f23-ad87-d4a7a62487f5\",                        [{\"geo\":\"geo\",\"hovertemplate\":\"Country: %{hovertext}<br>Death Rate: %{marker.size}<br>Containment: %{marker.color}\",\"hovertext\":[\"Afghanistan\",\"Albania\",\"Algeria\",\"Andorra\",\"Angola\",\"Argentina\",\"Australia\",\"Austria\",\"Azerbaijan\",\"Bahamas\",\"Bahrain\",\"Bangladesh\",\"Barbados\",\"Belarus\",\"Belgium\",\"Belize\",\"Benin\",\"Bhutan\",\"Bolivia\",\"Bosnia and Herzegovina\",\"Botswana\",\"Brazil\",\"Brunei\",\"Bulgaria\",\"Burkina Faso\",\"Burundi\",\"Cambodia\",\"Cameroon\",\"Canada\",\"Central African Republic\",\"Chad\",\"Chile\",\"China\",\"Colombia\",\"Costa Rica\",\"Cote d'Ivoire\",\"Croatia\",\"Cuba\",\"Cyprus\",\"Denmark\",\"Djibouti\",\"Dominica\",\"Dominican Republic\",\"Ecuador\",\"Egypt\",\"El Salvador\",\"Eritrea\",\"Estonia\",\"Eswatini\",\"Ethiopia\",\"Fiji\",\"Finland\",\"France\",\"Gabon\",\"Gambia\",\"Georgia\",\"Germany\",\"Ghana\",\"Greece\",\"Guatemala\",\"Guinea\",\"Guyana\",\"Haiti\",\"Honduras\",\"Hungary\",\"Iceland\",\"India\",\"Indonesia\",\"Iran\",\"Iraq\",\"Ireland\",\"Israel\",\"Italy\",\"Jamaica\",\"Japan\",\"Jordan\",\"Kazakhstan\",\"Kenya\",\"Kiribati\",\"Kosovo\",\"Kuwait\",\"Laos\",\"Latvia\",\"Lebanon\",\"Lesotho\",\"Liberia\",\"Libya\",\"Liechtenstein\",\"Lithuania\",\"Luxembourg\",\"Madagascar\",\"Malawi\",\"Malaysia\",\"Mali\",\"Malta\",\"Mauritania\",\"Mauritius\",\"Mexico\",\"Moldova\",\"Monaco\",\"Mongolia\",\"Morocco\",\"Mozambique\",\"Namibia\",\"Nepal\",\"Netherlands\",\"New Zealand\",\"Nicaragua\",\"Niger\",\"Nigeria\",\"Norway\",\"Oman\",\"Pakistan\",\"Panama\",\"Papua New Guinea\",\"Paraguay\",\"Peru\",\"Philippines\",\"Poland\",\"Portugal\",\"Qatar\",\"Romania\",\"Russia\",\"Rwanda\",\"San Marino\",\"Saudi Arabia\",\"Senegal\",\"Serbia\",\"Seychelles\",\"Sierra Leone\",\"Singapore\",\"Slovenia\",\"Solomon Islands\",\"Somalia\",\"South Africa\",\"South Sudan\",\"Spain\",\"Sri Lanka\",\"Sudan\",\"Suriname\",\"Sweden\",\"Switzerland\",\"Syria\",\"Tajikistan\",\"Tanzania\",\"Thailand\",\"Timor-Leste\",\"Togo\",\"Tonga\",\"Trinidad and Tobago\",\"Tunisia\",\"Turkey\",\"Uganda\",\"Ukraine\",\"United Arab Emirates\",\"United Kingdom\",\"Uruguay\",\"Uzbekistan\",\"Vanuatu\",\"Venezuela\",\"Vietnam\",\"Yemen\",\"Zambia\",\"Zimbabwe\"],\"lat\":[33.93911,41.1533,28.0339,42.5063,-11.2027,-38.4161,-12.4634,47.5162,40.1431,25.025885,26.0275,23.685,13.1939,53.7098,50.8333,17.1899,9.3077,27.5142,-16.2902,43.9159,-22.3285,-14.235,4.5353,42.7339,12.2383,-3.3731,11.55,3.848,70.2998,6.6111,15.4542,-35.6751,47.862,4.5709,9.7489,7.54,45.1,21.521757,35.1264,71.7069,11.8251,15.415,18.7357,-1.8312,26.820553,13.7942,15.1794,58.5953,-26.5225,9.145,-17.7134,61.92411,46.8852,-0.8037,13.4432,42.3154,51.165691,7.9465,39.0742,15.7835,9.9456,4.860416,18.9712,15.2,47.1625,64.9631,20.593684,-0.7893,32.427908,33.223191,53.1424,31.046051,41.87194,18.1096,36.204824,31.24,48.0196,-0.0236,-3.3704,42.602636,29.31166,19.85627,56.8796,33.8547,-29.61,6.428055,26.3351,47.14,55.1694,49.8153,-18.766947,-13.2543,4.210484,17.570692,35.9375,21.0079,-20.348404,23.6345,47.4116,43.7333,46.8625,31.7917,-18.665695,-22.9576,28.1667,52.1326,-19.0544,12.865416,17.607789,9.082,60.472,21.512583,30.3753,8.538,-6.314993,-23.4425,-9.19,12.879721,51.9194,39.3999,25.3548,45.9432,61.52401,-1.9403,43.9424,23.885942,14.4974,44.0165,-4.6796,8.460555,1.2833,46.1512,-9.6457,5.152149,-30.5595,6.877,40.463667,7.873054,12.8628,3.9193,60.128161,46.8182,34.802075,38.861,-6.369028,15.870032,-8.874217,8.6195,-21.179,10.6918,33.886917,38.9637,1.373333,48.3794,23.424076,55.3781,-32.5228,41.377491,-15.3767,6.4238,14.058324,15.552727,-13.133897,-19.015438],\"legendgroup\":\"\",\"lon\":[67.709953,20.1683,1.6596,1.5218,17.8739,-63.6167,153.0251,14.5501,47.5769,-78.035889,50.55,90.3563,-59.5432,27.9534,4.469936,-88.4976,2.3158,90.4336,-63.5887,17.6791,24.6849,-51.9253,114.7277,25.4858,-1.5616,29.9189,104.9167,11.5021,0.0,20.9394,18.7322,-71.543,127.7615,-74.2973,-83.7534,-5.5471,15.2,-77.781167,33.4299,9.5018,42.5903,-61.371,-70.1627,-78.1834,30.802498,-88.8965,39.7823,25.0136,31.4659,40.4897,178.065,25.748151,165.618042,11.6094,-15.3101,43.3569,10.451526,-1.0232,21.8243,-90.2308,-9.6966,-58.93018,-72.2852,-86.2419,19.5033,-19.0208,78.96288,113.9213,53.688046,43.679291,-7.6921,34.851612,12.56738,-77.2975,138.252924,36.51,66.9237,37.9062,-168.734,20.902977,47.481766,102.495496,24.6032,35.8623,28.2336,-9.429499,17.228331,9.55,23.8813,6.1296,46.869107,34.3015,101.975766,-3.996166,14.3754,-10.9408,57.552152,-102.5528,28.3699,7.4167,103.8467,-7.0926,35.529562,18.4904,84.25,5.2913,174.886,-85.207229,8.081666,8.6753,8.4689,55.923255,69.3451,-80.7821,143.95555,-58.4438,-75.0152,121.774017,19.1451,-8.2245,51.1839,24.9668,105.318756,29.8739,12.4578,45.079162,-14.4524,21.0059,55.492,-11.779889,103.8333,14.9955,160.1562,46.199616,22.9375,31.307,-3.74922,80.771797,30.2176,-56.0278,18.643501,8.2275,38.996815,71.2761,34.888822,100.992541,125.727539,0.8248,-175.1982,-61.2225,9.537499,35.2433,32.290275,31.1656,53.847818,-2.1358,-55.7658,64.585262,166.9592,-66.5897,108.277199,48.516388,27.849332,29.154857],\"marker\":{\"color\":[30,47,51,46,50,56,52,60,60,58,51,54,55,32,51,52,38,57,48,43,42,48,49,41,31,20,46,36,51,28,41,58,62,56,47,35,44,52,55,42,43,50,50,54,46,45,54,38,52,49,57,42,51,48,42,48,54,46,59,54,54,57,46,63,43,38,55,57,54,56,49,54,63,58,45,45,52,55,28,49,48,52,39,54,45,51,52,43,43,49,40,43,56,44,51,41,44,47,47,48,47,56,45,44,53,50,44,19,29,46,41,51,56,56,48,47,57,64,43,51,58,50,48,58,39,54,39,45,52,49,58,48,34,36,52,42,49,58,32,55,39,44,36,30,18,46,40,47,43,54,51,47,54,47,53,46,46,41,32,53,59,24,37,55],\"coloraxis\":\"coloraxis\",\"size\":[3.8,1.1,2.5,0.3,1.8,1.3,0.2,0.4,1.2,2.2,0.2,1.4,0.5,0.7,0.7,1.0,0.6,0.0,1.9,4.1,0.9,1.9,0.1,2.9,1.8,0.1,2.2,1.6,1.1,0.7,2.5,1.2,2.9,2.2,0.8,0.9,1.4,0.8,0.2,0.2,1.2,0.5,0.7,3.4,4.8,2.1,1.0,0.5,1.9,1.5,1.3,0.6,0.4,0.6,3.0,0.9,0.4,0.9,0.6,1.6,1.2,1.8,2.5,2.4,2.2,0.1,1.2,2.4,1.9,1.0,0.5,0.3,0.7,2.3,0.2,0.8,1.3,1.7,0.4,1.2,0.4,0.3,0.6,0.9,2.1,3.6,1.3,0.4,0.7,0.4,2.1,3.3,0.7,2.2,0.7,1.6,0.4,4.5,2.0,0.4,0.2,1.3,1.0,2.4,1.2,0.3,0.1,1.6,3.3,1.2,0.4,1.2,1.9,0.8,1.4,2.5,4.9,1.6,1.8,0.5,0.1,2.0,1.8,1.1,0.5,1.2,2.2,0.7,0.3,1.6,0.1,0.5,0.6,5.0,2.5,0.8,0.9,2.5,7.9,1.7,0.9,0.3,5.5,0.7,2.0,0.7,0.6,0.7,0.1,2.3,2.5,0.6,2.1,2.1,0.2,0.9,0.7,0.7,0.1,1.1,0.4,18.1,1.2,2.1],\"sizemode\":\"area\",\"sizeref\":0.045250000000000005,\"symbol\":\"circle\"},\"mode\":\"markers\",\"name\":\"\",\"showlegend\":false,\"type\":\"scattergeo\"}],                        {\"template\":{\"data\":{\"bar\":[{\"error_x\":{\"color\":\"#2a3f5f\"},\"error_y\":{\"color\":\"#2a3f5f\"},\"marker\":{\"line\":{\"color\":\"#E5ECF6\",\"width\":0.5},\"pattern\":{\"fillmode\":\"overlay\",\"size\":10,\"solidity\":0.2}},\"type\":\"bar\"}],\"barpolar\":[{\"marker\":{\"line\":{\"color\":\"#E5ECF6\",\"width\":0.5},\"pattern\":{\"fillmode\":\"overlay\",\"size\":10,\"solidity\":0.2}},\"type\":\"barpolar\"}],\"carpet\":[{\"aaxis\":{\"endlinecolor\":\"#2a3f5f\",\"gridcolor\":\"white\",\"linecolor\":\"white\",\"minorgridcolor\":\"white\",\"startlinecolor\":\"#2a3f5f\"},\"baxis\":{\"endlinecolor\":\"#2a3f5f\",\"gridcolor\":\"white\",\"linecolor\":\"white\",\"minorgridcolor\":\"white\",\"startlinecolor\":\"#2a3f5f\"},\"type\":\"carpet\"}],\"choropleth\":[{\"colorbar\":{\"outlinewidth\":0,\"ticks\":\"\"},\"type\":\"choropleth\"}],\"contour\":[{\"colorbar\":{\"outlinewidth\":0,\"ticks\":\"\"},\"colorscale\":[[0.0,\"#0d0887\"],[0.1111111111111111,\"#46039f\"],[0.2222222222222222,\"#7201a8\"],[0.3333333333333333,\"#9c179e\"],[0.4444444444444444,\"#bd3786\"],[0.5555555555555556,\"#d8576b\"],[0.6666666666666666,\"#ed7953\"],[0.7777777777777778,\"#fb9f3a\"],[0.8888888888888888,\"#fdca26\"],[1.0,\"#f0f921\"]],\"type\":\"contour\"}],\"contourcarpet\":[{\"colorbar\":{\"outlinewidth\":0,\"ticks\":\"\"},\"type\":\"contourcarpet\"}],\"heatmap\":[{\"colorbar\":{\"outlinewidth\":0,\"ticks\":\"\"},\"colorscale\":[[0.0,\"#0d0887\"],[0.1111111111111111,\"#46039f\"],[0.2222222222222222,\"#7201a8\"],[0.3333333333333333,\"#9c179e\"],[0.4444444444444444,\"#bd3786\"],[0.5555555555555556,\"#d8576b\"],[0.6666666666666666,\"#ed7953\"],[0.7777777777777778,\"#fb9f3a\"],[0.8888888888888888,\"#fdca26\"],[1.0,\"#f0f921\"]],\"type\":\"heatmap\"}],\"heatmapgl\":[{\"colorbar\":{\"outlinewidth\":0,\"ticks\":\"\"},\"colorscale\":[[0.0,\"#0d0887\"],[0.1111111111111111,\"#46039f\"],[0.2222222222222222,\"#7201a8\"],[0.3333333333333333,\"#9c179e\"],[0.4444444444444444,\"#bd3786\"],[0.5555555555555556,\"#d8576b\"],[0.6666666666666666,\"#ed7953\"],[0.7777777777777778,\"#fb9f3a\"],[0.8888888888888888,\"#fdca26\"],[1.0,\"#f0f921\"]],\"type\":\"heatmapgl\"}],\"histogram\":[{\"marker\":{\"pattern\":{\"fillmode\":\"overlay\",\"size\":10,\"solidity\":0.2}},\"type\":\"histogram\"}],\"histogram2d\":[{\"colorbar\":{\"outlinewidth\":0,\"ticks\":\"\"},\"colorscale\":[[0.0,\"#0d0887\"],[0.1111111111111111,\"#46039f\"],[0.2222222222222222,\"#7201a8\"],[0.3333333333333333,\"#9c179e\"],[0.4444444444444444,\"#bd3786\"],[0.5555555555555556,\"#d8576b\"],[0.6666666666666666,\"#ed7953\"],[0.7777777777777778,\"#fb9f3a\"],[0.8888888888888888,\"#fdca26\"],[1.0,\"#f0f921\"]],\"type\":\"histogram2d\"}],\"histogram2dcontour\":[{\"colorbar\":{\"outlinewidth\":0,\"ticks\":\"\"},\"colorscale\":[[0.0,\"#0d0887\"],[0.1111111111111111,\"#46039f\"],[0.2222222222222222,\"#7201a8\"],[0.3333333333333333,\"#9c179e\"],[0.4444444444444444,\"#bd3786\"],[0.5555555555555556,\"#d8576b\"],[0.6666666666666666,\"#ed7953\"],[0.7777777777777778,\"#fb9f3a\"],[0.8888888888888888,\"#fdca26\"],[1.0,\"#f0f921\"]],\"type\":\"histogram2dcontour\"}],\"mesh3d\":[{\"colorbar\":{\"outlinewidth\":0,\"ticks\":\"\"},\"type\":\"mesh3d\"}],\"parcoords\":[{\"line\":{\"colorbar\":{\"outlinewidth\":0,\"ticks\":\"\"}},\"type\":\"parcoords\"}],\"pie\":[{\"automargin\":true,\"type\":\"pie\"}],\"scatter\":[{\"marker\":{\"colorbar\":{\"outlinewidth\":0,\"ticks\":\"\"}},\"type\":\"scatter\"}],\"scatter3d\":[{\"line\":{\"colorbar\":{\"outlinewidth\":0,\"ticks\":\"\"}},\"marker\":{\"colorbar\":{\"outlinewidth\":0,\"ticks\":\"\"}},\"type\":\"scatter3d\"}],\"scattercarpet\":[{\"marker\":{\"colorbar\":{\"outlinewidth\":0,\"ticks\":\"\"}},\"type\":\"scattercarpet\"}],\"scattergeo\":[{\"marker\":{\"colorbar\":{\"outlinewidth\":0,\"ticks\":\"\"}},\"type\":\"scattergeo\"}],\"scattergl\":[{\"marker\":{\"colorbar\":{\"outlinewidth\":0,\"ticks\":\"\"}},\"type\":\"scattergl\"}],\"scattermapbox\":[{\"marker\":{\"colorbar\":{\"outlinewidth\":0,\"ticks\":\"\"}},\"type\":\"scattermapbox\"}],\"scatterpolar\":[{\"marker\":{\"colorbar\":{\"outlinewidth\":0,\"ticks\":\"\"}},\"type\":\"scatterpolar\"}],\"scatterpolargl\":[{\"marker\":{\"colorbar\":{\"outlinewidth\":0,\"ticks\":\"\"}},\"type\":\"scatterpolargl\"}],\"scatterternary\":[{\"marker\":{\"colorbar\":{\"outlinewidth\":0,\"ticks\":\"\"}},\"type\":\"scatterternary\"}],\"surface\":[{\"colorbar\":{\"outlinewidth\":0,\"ticks\":\"\"},\"colorscale\":[[0.0,\"#0d0887\"],[0.1111111111111111,\"#46039f\"],[0.2222222222222222,\"#7201a8\"],[0.3333333333333333,\"#9c179e\"],[0.4444444444444444,\"#bd3786\"],[0.5555555555555556,\"#d8576b\"],[0.6666666666666666,\"#ed7953\"],[0.7777777777777778,\"#fb9f3a\"],[0.8888888888888888,\"#fdca26\"],[1.0,\"#f0f921\"]],\"type\":\"surface\"}],\"table\":[{\"cells\":{\"fill\":{\"color\":\"#EBF0F8\"},\"line\":{\"color\":\"white\"}},\"header\":{\"fill\":{\"color\":\"#C8D4E3\"},\"line\":{\"color\":\"white\"}},\"type\":\"table\"}]},\"layout\":{\"annotationdefaults\":{\"arrowcolor\":\"#2a3f5f\",\"arrowhead\":0,\"arrowwidth\":1},\"autotypenumbers\":\"strict\",\"coloraxis\":{\"colorbar\":{\"outlinewidth\":0,\"ticks\":\"\"}},\"colorscale\":{\"diverging\":[[0,\"#8e0152\"],[0.1,\"#c51b7d\"],[0.2,\"#de77ae\"],[0.3,\"#f1b6da\"],[0.4,\"#fde0ef\"],[0.5,\"#f7f7f7\"],[0.6,\"#e6f5d0\"],[0.7,\"#b8e186\"],[0.8,\"#7fbc41\"],[0.9,\"#4d9221\"],[1,\"#276419\"]],\"sequential\":[[0.0,\"#0d0887\"],[0.1111111111111111,\"#46039f\"],[0.2222222222222222,\"#7201a8\"],[0.3333333333333333,\"#9c179e\"],[0.4444444444444444,\"#bd3786\"],[0.5555555555555556,\"#d8576b\"],[0.6666666666666666,\"#ed7953\"],[0.7777777777777778,\"#fb9f3a\"],[0.8888888888888888,\"#fdca26\"],[1.0,\"#f0f921\"]],\"sequentialminus\":[[0.0,\"#0d0887\"],[0.1111111111111111,\"#46039f\"],[0.2222222222222222,\"#7201a8\"],[0.3333333333333333,\"#9c179e\"],[0.4444444444444444,\"#bd3786\"],[0.5555555555555556,\"#d8576b\"],[0.6666666666666666,\"#ed7953\"],[0.7777777777777778,\"#fb9f3a\"],[0.8888888888888888,\"#fdca26\"],[1.0,\"#f0f921\"]]},\"colorway\":[\"#636efa\",\"#EF553B\",\"#00cc96\",\"#ab63fa\",\"#FFA15A\",\"#19d3f3\",\"#FF6692\",\"#B6E880\",\"#FF97FF\",\"#FECB52\"],\"font\":{\"color\":\"#2a3f5f\"},\"geo\":{\"bgcolor\":\"white\",\"lakecolor\":\"white\",\"landcolor\":\"#E5ECF6\",\"showlakes\":true,\"showland\":true,\"subunitcolor\":\"white\"},\"hoverlabel\":{\"align\":\"left\"},\"hovermode\":\"closest\",\"mapbox\":{\"style\":\"light\"},\"paper_bgcolor\":\"white\",\"plot_bgcolor\":\"#E5ECF6\",\"polar\":{\"angularaxis\":{\"gridcolor\":\"white\",\"linecolor\":\"white\",\"ticks\":\"\"},\"bgcolor\":\"#E5ECF6\",\"radialaxis\":{\"gridcolor\":\"white\",\"linecolor\":\"white\",\"ticks\":\"\"}},\"scene\":{\"xaxis\":{\"backgroundcolor\":\"#E5ECF6\",\"gridcolor\":\"white\",\"gridwidth\":2,\"linecolor\":\"white\",\"showbackground\":true,\"ticks\":\"\",\"zerolinecolor\":\"white\"},\"yaxis\":{\"backgroundcolor\":\"#E5ECF6\",\"gridcolor\":\"white\",\"gridwidth\":2,\"linecolor\":\"white\",\"showbackground\":true,\"ticks\":\"\",\"zerolinecolor\":\"white\"},\"zaxis\":{\"backgroundcolor\":\"#E5ECF6\",\"gridcolor\":\"white\",\"gridwidth\":2,\"linecolor\":\"white\",\"showbackground\":true,\"ticks\":\"\",\"zerolinecolor\":\"white\"}},\"shapedefaults\":{\"line\":{\"color\":\"#2a3f5f\"}},\"ternary\":{\"aaxis\":{\"gridcolor\":\"white\",\"linecolor\":\"white\",\"ticks\":\"\"},\"baxis\":{\"gridcolor\":\"white\",\"linecolor\":\"white\",\"ticks\":\"\"},\"bgcolor\":\"#E5ECF6\",\"caxis\":{\"gridcolor\":\"white\",\"linecolor\":\"white\",\"ticks\":\"\"}},\"title\":{\"x\":0.05},\"xaxis\":{\"automargin\":true,\"gridcolor\":\"white\",\"linecolor\":\"white\",\"ticks\":\"\",\"title\":{\"standoff\":15},\"zerolinecolor\":\"white\",\"zerolinewidth\":2},\"yaxis\":{\"automargin\":true,\"gridcolor\":\"white\",\"linecolor\":\"white\",\"ticks\":\"\",\"title\":{\"standoff\":15},\"zerolinecolor\":\"white\",\"zerolinewidth\":2}}},\"geo\":{\"domain\":{\"x\":[0.0,1.0],\"y\":[0.0,1.0]},\"projection\":{\"type\":\"natural earth\"},\"center\":{}},\"coloraxis\":{\"colorbar\":{\"title\":{\"text\":\"Containment\"}},\"colorscale\":[[0.0,\"#000004\"],[0.1111111111111111,\"#1b0c41\"],[0.2222222222222222,\"#4a0c6b\"],[0.3333333333333333,\"#781c6d\"],[0.4444444444444444,\"#a52c60\"],[0.5555555555555556,\"#cf4446\"],[0.6666666666666666,\"#ed6925\"],[0.7777777777777778,\"#fb9b06\"],[0.8888888888888888,\"#f7d13d\"],[1.0,\"#fcffa4\"]]},\"legend\":{\"tracegroupgap\":0,\"itemsizing\":\"constant\"},\"title\":{\"text\":\"World Map with Covid_19 Data \"},\"annotations\":[{\"bgcolor\":\"white\",\"bordercolor\":\"black\",\"borderwidth\":1,\"font\":{\"size\":12},\"showarrow\":false,\"text\":\"Circle Size Represents<br>Death Rate (%)\",\"x\":0.95,\"xanchor\":\"left\",\"xref\":\"paper\",\"y\":1.1,\"yanchor\":\"top\",\"yref\":\"paper\"}]},                        {\"responsive\": true}                    ).then(function(){\n",
       "                            \n",
       "var gd = document.getElementById('9deef813-94be-4f23-ad87-d4a7a62487f5');\n",
       "var x = new MutationObserver(function (mutations, observer) {{\n",
       "        var display = window.getComputedStyle(gd).display;\n",
       "        if (!display || display === 'none') {{\n",
       "            console.log([gd, 'removed!']);\n",
       "            Plotly.purge(gd);\n",
       "            observer.disconnect();\n",
       "        }}\n",
       "}});\n",
       "\n",
       "// Listen for the removal of the full notebook cells\n",
       "var notebookContainer = gd.closest('#notebook-container');\n",
       "if (notebookContainer) {{\n",
       "    x.observe(notebookContainer, {childList: true});\n",
       "}}\n",
       "\n",
       "// Listen for the clearing of the current output cell\n",
       "var outputEl = gd.closest('.output');\n",
       "if (outputEl) {{\n",
       "    x.observe(outputEl, {childList: true});\n",
       "}}\n",
       "\n",
       "                        })                };                });            </script>        </div>"
      ]
     },
     "metadata": {},
     "output_type": "display_data"
    }
   ],
   "source": [
    "fig = px.scatter_geo(df,\n",
    "                     lat='Lat',\n",
    "                     lon='Long',\n",
    "                     size='percent_death_per_cases',\n",
    "                     projection='natural earth',\n",
    "                     title='World Map with Covid_19 Data ',\n",
    "                     hover_name='Country',  # Hover information\n",
    "                     color='Containment',  # Color based on 'Value' column\n",
    "                     color_continuous_scale='Inferno'  # Color scale\n",
    "                     )\n",
    "fig.update_traces(hovertemplate='Country: %{hovertext}<br>Death Rate: %{marker.size}<br>Containment: %{marker.color}')\n",
    "\n",
    "\n",
    "legend_entry = go.layout.Annotation(\n",
    "    text='Circle Size Represents<br>Death Rate (%)',\n",
    "    showarrow=False,\n",
    "    xref='paper',\n",
    "    yref='paper',\n",
    "    x=0.95,\n",
    "    y=1.1,\n",
    "    xanchor='left',\n",
    "    yanchor='top',\n",
    "    bgcolor='white',\n",
    "    bordercolor='black',\n",
    "    borderwidth=1,\n",
    "    font=dict(size=12),\n",
    ")\n",
    "\n",
    "# Add the custom legend entry to the layout\n",
    "fig.update_layout(annotations=[legend_entry])"
   ]
  },
  {
   "cell_type": "code",
   "execution_count": 133,
   "id": "2aa8469b",
   "metadata": {},
   "outputs": [],
   "source": [
    "# Assuming 'fig' is your Plotly figure\n",
    "# Specify the file name and path where you want to save the HTML file\n",
    "html_file_path = 'your_map.html'\n",
    "\n",
    "# Use the write_html function to export the figure as an HTML file\n",
    "pio.write_html(fig, file=html_file_path, auto_open=True)\n"
   ]
  },
  {
   "cell_type": "code",
   "execution_count": 1,
   "id": "8e766711",
   "metadata": {},
   "outputs": [
    {
     "name": "stdout",
     "output_type": "stream",
     "text": [
      "Collecting voila\n",
      "  Downloading voila-0.5.4-py3-none-any.whl (3.3 MB)\n",
      "\u001b[K     |████████████████████████████████| 3.3 MB 1.6 MB/s eta 0:00:01\n",
      "\u001b[?25hCollecting websockets>=9.0\n",
      "  Downloading websockets-11.0.3-cp39-cp39-macosx_10_9_x86_64.whl (120 kB)\n",
      "\u001b[K     |████████████████████████████████| 120 kB 3.7 MB/s eta 0:00:01\n",
      "\u001b[?25hRequirement already satisfied: jupyterlab-server<3,>=2.3.0 in /Users/wadihgeahchan/opt/anaconda3/lib/python3.9/site-packages (from voila) (2.10.3)\n",
      "Requirement already satisfied: nbclient<0.8,>=0.4.0 in /Users/wadihgeahchan/opt/anaconda3/lib/python3.9/site-packages (from voila) (0.5.13)\n",
      "Collecting jupyter-core>=4.11.0\n",
      "  Downloading jupyter_core-5.3.1-py3-none-any.whl (93 kB)\n",
      "\u001b[K     |████████████████████████████████| 93 kB 2.2 MB/s eta 0:00:011\n",
      "\u001b[?25hRequirement already satisfied: traitlets<6,>=5.0.3 in /Users/wadihgeahchan/opt/anaconda3/lib/python3.9/site-packages (from voila) (5.1.1)\n",
      "Collecting jupyter-client<9,>=7.4.4\n",
      "  Downloading jupyter_client-8.3.1-py3-none-any.whl (104 kB)\n",
      "\u001b[K     |████████████████████████████████| 104 kB 5.4 MB/s eta 0:00:01\n",
      "\u001b[?25hCollecting jupyter-server<3,>=2.0.0\n",
      "  Downloading jupyter_server-2.7.3-py3-none-any.whl (375 kB)\n",
      "\u001b[K     |████████████████████████████████| 375 kB 5.9 MB/s eta 0:00:01\n",
      "\u001b[?25hCollecting nbconvert<8,>=6.4.5\n",
      "  Downloading nbconvert-7.8.0-py3-none-any.whl (254 kB)\n",
      "\u001b[K     |████████████████████████████████| 254 kB 3.9 MB/s eta 0:00:01\n",
      "\u001b[?25hRequirement already satisfied: python-dateutil>=2.8.2 in /Users/wadihgeahchan/opt/anaconda3/lib/python3.9/site-packages (from jupyter-client<9,>=7.4.4->voila) (2.8.2)\n",
      "Requirement already satisfied: importlib-metadata>=4.8.3 in /Users/wadihgeahchan/opt/anaconda3/lib/python3.9/site-packages (from jupyter-client<9,>=7.4.4->voila) (4.11.3)\n",
      "Collecting traitlets<6,>=5.0.3\n",
      "  Downloading traitlets-5.10.0-py3-none-any.whl (120 kB)\n",
      "\u001b[K     |████████████████████████████████| 120 kB 2.1 MB/s eta 0:00:01\n",
      "\u001b[?25hCollecting pyzmq>=23.0\n",
      "  Downloading pyzmq-25.1.1-cp39-cp39-macosx_10_15_universal2.whl (1.9 MB)\n",
      "\u001b[K     |████████████████████████████████| 1.9 MB 1.9 MB/s eta 0:00:01\n",
      "\u001b[?25hCollecting tornado>=6.2\n",
      "  Downloading tornado-6.3.3-cp38-abi3-macosx_10_9_x86_64.whl (423 kB)\n",
      "\u001b[K     |████████████████████████████████| 423 kB 4.8 MB/s eta 0:00:01\n",
      "\u001b[?25hRequirement already satisfied: zipp>=0.5 in /Users/wadihgeahchan/opt/anaconda3/lib/python3.9/site-packages (from importlib-metadata>=4.8.3->jupyter-client<9,>=7.4.4->voila) (3.7.0)\n",
      "Collecting platformdirs>=2.5\n",
      "  Downloading platformdirs-3.10.0-py3-none-any.whl (17 kB)\n",
      "Requirement already satisfied: terminado>=0.8.3 in /Users/wadihgeahchan/opt/anaconda3/lib/python3.9/site-packages (from jupyter-server<3,>=2.0.0->voila) (0.13.1)\n",
      "Collecting overrides\n",
      "  Downloading overrides-7.4.0-py3-none-any.whl (17 kB)\n",
      "Collecting jupyter-events>=0.6.0\n",
      "  Downloading jupyter_events-0.7.0-py3-none-any.whl (18 kB)\n",
      "Requirement already satisfied: nbformat>=5.3.0 in /Users/wadihgeahchan/opt/anaconda3/lib/python3.9/site-packages (from jupyter-server<3,>=2.0.0->voila) (5.3.0)\n",
      "Collecting jupyter-server-terminals\n",
      "  Downloading jupyter_server_terminals-0.4.4-py3-none-any.whl (13 kB)\n",
      "Requirement already satisfied: jinja2 in /Users/wadihgeahchan/opt/anaconda3/lib/python3.9/site-packages (from jupyter-server<3,>=2.0.0->voila) (2.11.3)\n",
      "Requirement already satisfied: anyio>=3.1.0 in /Users/wadihgeahchan/opt/anaconda3/lib/python3.9/site-packages (from jupyter-server<3,>=2.0.0->voila) (3.5.0)\n",
      "Requirement already satisfied: argon2-cffi in /Users/wadihgeahchan/opt/anaconda3/lib/python3.9/site-packages (from jupyter-server<3,>=2.0.0->voila) (21.3.0)\n",
      "Requirement already satisfied: prometheus-client in /Users/wadihgeahchan/opt/anaconda3/lib/python3.9/site-packages (from jupyter-server<3,>=2.0.0->voila) (0.13.1)\n",
      "Requirement already satisfied: websocket-client in /Users/wadihgeahchan/opt/anaconda3/lib/python3.9/site-packages (from jupyter-server<3,>=2.0.0->voila) (0.58.0)\n",
      "Requirement already satisfied: packaging in /Users/wadihgeahchan/opt/anaconda3/lib/python3.9/site-packages (from jupyter-server<3,>=2.0.0->voila) (21.3)\n",
      "Collecting send2trash>=1.8.2\n",
      "  Downloading Send2Trash-1.8.2-py3-none-any.whl (18 kB)\n",
      "Requirement already satisfied: sniffio>=1.1 in /Users/wadihgeahchan/opt/anaconda3/lib/python3.9/site-packages (from anyio>=3.1.0->jupyter-server<3,>=2.0.0->voila) (1.2.0)\n",
      "Requirement already satisfied: idna>=2.8 in /Users/wadihgeahchan/opt/anaconda3/lib/python3.9/site-packages (from anyio>=3.1.0->jupyter-server<3,>=2.0.0->voila) (3.3)\n",
      "Collecting rfc3986-validator>=0.1.1\n",
      "  Downloading rfc3986_validator-0.1.1-py2.py3-none-any.whl (4.2 kB)\n",
      "Collecting referencing\n",
      "  Downloading referencing-0.30.2-py3-none-any.whl (25 kB)\n",
      "Collecting python-json-logger>=2.0.4\n",
      "  Downloading python_json_logger-2.0.7-py3-none-any.whl (8.1 kB)\n",
      "Collecting rfc3339-validator\n",
      "  Downloading rfc3339_validator-0.1.4-py2.py3-none-any.whl (3.5 kB)\n",
      "Requirement already satisfied: pyyaml>=5.3 in /Users/wadihgeahchan/opt/anaconda3/lib/python3.9/site-packages (from jupyter-events>=0.6.0->jupyter-server<3,>=2.0.0->voila) (6.0)\n",
      "Collecting jsonschema[format-nongpl]>=4.18.0\n",
      "  Downloading jsonschema-4.19.0-py3-none-any.whl (83 kB)\n",
      "\u001b[K     |████████████████████████████████| 83 kB 2.7 MB/s eta 0:00:01\n",
      "\u001b[?25hCollecting rpds-py>=0.7.1\n",
      "  Downloading rpds_py-0.10.3-cp39-cp39-macosx_10_7_x86_64.whl (333 kB)\n",
      "\u001b[K     |████████████████████████████████| 333 kB 7.7 MB/s eta 0:00:01\n",
      "\u001b[?25hCollecting attrs>=22.2.0\n",
      "  Downloading attrs-23.1.0-py3-none-any.whl (61 kB)\n",
      "\u001b[K     |████████████████████████████████| 61 kB 5.9 MB/s eta 0:00:011\n",
      "\u001b[?25hCollecting jsonschema-specifications>=2023.03.6\n",
      "  Downloading jsonschema_specifications-2023.7.1-py3-none-any.whl (17 kB)\n",
      "Collecting uri-template\n",
      "  Downloading uri_template-1.3.0-py3-none-any.whl (11 kB)\n",
      "Collecting jsonpointer>1.13\n",
      "  Downloading jsonpointer-2.4-py2.py3-none-any.whl (7.8 kB)\n",
      "Collecting isoduration\n",
      "  Downloading isoduration-20.11.0-py3-none-any.whl (11 kB)\n",
      "Collecting fqdn\n",
      "  Downloading fqdn-1.5.1-py3-none-any.whl (9.1 kB)\n",
      "Collecting webcolors>=1.11\n",
      "  Downloading webcolors-1.13-py3-none-any.whl (14 kB)\n",
      "Requirement already satisfied: requests in /Users/wadihgeahchan/opt/anaconda3/lib/python3.9/site-packages (from jupyterlab-server<3,>=2.3.0->voila) (2.27.1)\n",
      "Requirement already satisfied: entrypoints>=0.2.2 in /Users/wadihgeahchan/opt/anaconda3/lib/python3.9/site-packages (from jupyterlab-server<3,>=2.3.0->voila) (0.4)\n",
      "Collecting jupyterlab-server<3,>=2.3.0\n",
      "  Downloading jupyterlab_server-2.25.0-py3-none-any.whl (57 kB)\n",
      "\u001b[K     |████████████████████████████████| 57 kB 6.8 MB/s eta 0:00:011\n",
      "\u001b[?25hCollecting babel>=2.10\n",
      "  Downloading Babel-2.12.1-py3-none-any.whl (10.1 MB)\n",
      "\u001b[K     |████████████████████████████████| 10.1 MB 2.5 MB/s eta 0:00:01    |██████████████▏                 | 4.5 MB 3.3 MB/s eta 0:00:02\n",
      "\u001b[?25hCollecting jinja2\n",
      "  Downloading Jinja2-3.1.2-py3-none-any.whl (133 kB)\n",
      "\u001b[K     |████████████████████████████████| 133 kB 6.6 MB/s eta 0:00:01\n",
      "\u001b[?25hRequirement already satisfied: json5>=0.9.0 in /Users/wadihgeahchan/opt/anaconda3/lib/python3.9/site-packages (from jupyterlab-server<3,>=2.3.0->voila) (0.9.6)\n",
      "Collecting requests>=2.31\n",
      "  Downloading requests-2.31.0-py3-none-any.whl (62 kB)\n",
      "\u001b[K     |████████████████████████████████| 62 kB 2.1 MB/s eta 0:00:01\n",
      "\u001b[?25hRequirement already satisfied: MarkupSafe>=2.0 in /Users/wadihgeahchan/opt/anaconda3/lib/python3.9/site-packages (from jinja2->jupyter-server<3,>=2.0.0->voila) (2.0.1)\n",
      "Requirement already satisfied: nest-asyncio in /Users/wadihgeahchan/opt/anaconda3/lib/python3.9/site-packages (from nbclient<0.8,>=0.4.0->voila) (1.5.5)\n",
      "Requirement already satisfied: bleach!=5.0.0 in /Users/wadihgeahchan/opt/anaconda3/lib/python3.9/site-packages (from nbconvert<8,>=6.4.5->voila) (4.1.0)\n",
      "Collecting mistune<4,>=2.0.3\n",
      "  Downloading mistune-3.0.1-py3-none-any.whl (47 kB)\n",
      "\u001b[K     |████████████████████████████████| 47 kB 2.4 MB/s eta 0:00:01\n",
      "\u001b[?25hRequirement already satisfied: pandocfilters>=1.4.1 in /Users/wadihgeahchan/opt/anaconda3/lib/python3.9/site-packages (from nbconvert<8,>=6.4.5->voila) (1.5.0)\n",
      "Requirement already satisfied: pygments>=2.4.1 in /Users/wadihgeahchan/opt/anaconda3/lib/python3.9/site-packages (from nbconvert<8,>=6.4.5->voila) (2.11.2)\n",
      "Requirement already satisfied: beautifulsoup4 in /Users/wadihgeahchan/opt/anaconda3/lib/python3.9/site-packages (from nbconvert<8,>=6.4.5->voila) (4.11.1)\n",
      "Requirement already satisfied: defusedxml in /Users/wadihgeahchan/opt/anaconda3/lib/python3.9/site-packages (from nbconvert<8,>=6.4.5->voila) (0.7.1)\n",
      "Requirement already satisfied: jupyterlab-pygments in /Users/wadihgeahchan/opt/anaconda3/lib/python3.9/site-packages (from nbconvert<8,>=6.4.5->voila) (0.1.2)\n"
     ]
    },
    {
     "name": "stdout",
     "output_type": "stream",
     "text": [
      "Collecting tinycss2\n",
      "  Downloading tinycss2-1.2.1-py3-none-any.whl (21 kB)\n",
      "Collecting nbformat>=5.3.0\n",
      "  Downloading nbformat-5.9.2-py3-none-any.whl (77 kB)\n",
      "\u001b[K     |████████████████████████████████| 77 kB 8.0 MB/s  eta 0:00:01\n",
      "\u001b[?25hRequirement already satisfied: webencodings in /Users/wadihgeahchan/opt/anaconda3/lib/python3.9/site-packages (from bleach!=5.0.0->nbconvert<8,>=6.4.5->voila) (0.5.1)\n",
      "Requirement already satisfied: six>=1.9.0 in /Users/wadihgeahchan/opt/anaconda3/lib/python3.9/site-packages (from bleach!=5.0.0->nbconvert<8,>=6.4.5->voila) (1.16.0)\n",
      "Requirement already satisfied: fastjsonschema in /Users/wadihgeahchan/opt/anaconda3/lib/python3.9/site-packages (from nbformat>=5.3.0->jupyter-server<3,>=2.0.0->voila) (2.15.1)\n",
      "Requirement already satisfied: pyparsing!=3.0.5,>=2.0.2 in /Users/wadihgeahchan/opt/anaconda3/lib/python3.9/site-packages (from packaging->jupyter-server<3,>=2.0.0->voila) (3.0.4)\n",
      "Requirement already satisfied: urllib3<3,>=1.21.1 in /Users/wadihgeahchan/opt/anaconda3/lib/python3.9/site-packages (from requests>=2.31->jupyterlab-server<3,>=2.3.0->voila) (1.26.9)\n",
      "Requirement already satisfied: certifi>=2017.4.17 in /Users/wadihgeahchan/opt/anaconda3/lib/python3.9/site-packages (from requests>=2.31->jupyterlab-server<3,>=2.3.0->voila) (2021.10.8)\n",
      "Requirement already satisfied: charset-normalizer<4,>=2 in /Users/wadihgeahchan/opt/anaconda3/lib/python3.9/site-packages (from requests>=2.31->jupyterlab-server<3,>=2.3.0->voila) (2.0.4)\n",
      "Requirement already satisfied: ptyprocess in /Users/wadihgeahchan/opt/anaconda3/lib/python3.9/site-packages (from terminado>=0.8.3->jupyter-server<3,>=2.0.0->voila) (0.7.0)\n",
      "Requirement already satisfied: argon2-cffi-bindings in /Users/wadihgeahchan/opt/anaconda3/lib/python3.9/site-packages (from argon2-cffi->jupyter-server<3,>=2.0.0->voila) (21.2.0)\n",
      "Requirement already satisfied: cffi>=1.0.1 in /Users/wadihgeahchan/opt/anaconda3/lib/python3.9/site-packages (from argon2-cffi-bindings->argon2-cffi->jupyter-server<3,>=2.0.0->voila) (1.15.0)\n",
      "Requirement already satisfied: pycparser in /Users/wadihgeahchan/opt/anaconda3/lib/python3.9/site-packages (from cffi>=1.0.1->argon2-cffi-bindings->argon2-cffi->jupyter-server<3,>=2.0.0->voila) (2.21)\n",
      "Requirement already satisfied: soupsieve>1.2 in /Users/wadihgeahchan/opt/anaconda3/lib/python3.9/site-packages (from beautifulsoup4->nbconvert<8,>=6.4.5->voila) (2.3.1)\n",
      "Requirement already satisfied: arrow>=0.15.0 in /Users/wadihgeahchan/opt/anaconda3/lib/python3.9/site-packages (from isoduration->jsonschema[format-nongpl]>=4.18.0->jupyter-events>=0.6.0->jupyter-server<3,>=2.0.0->voila) (1.2.2)\n",
      "Installing collected packages: rpds-py, attrs, referencing, traitlets, platformdirs, jsonschema-specifications, tornado, pyzmq, jupyter-core, jsonschema, webcolors, uri-template, rfc3986-validator, rfc3339-validator, nbformat, jupyter-client, jsonpointer, isoduration, fqdn, tinycss2, python-json-logger, mistune, jinja2, send2trash, overrides, nbconvert, jupyter-server-terminals, jupyter-events, requests, jupyter-server, babel, websockets, jupyterlab-server, voila\n",
      "  Attempting uninstall: attrs\n",
      "    Found existing installation: attrs 21.4.0\n",
      "    Uninstalling attrs-21.4.0:\n",
      "      Successfully uninstalled attrs-21.4.0\n",
      "  Attempting uninstall: traitlets\n",
      "    Found existing installation: traitlets 5.1.1\n",
      "    Uninstalling traitlets-5.1.1:\n",
      "      Successfully uninstalled traitlets-5.1.1\n",
      "  Attempting uninstall: tornado\n",
      "    Found existing installation: tornado 6.1\n",
      "    Uninstalling tornado-6.1:\n",
      "      Successfully uninstalled tornado-6.1\n",
      "  Attempting uninstall: pyzmq\n",
      "    Found existing installation: pyzmq 22.3.0\n",
      "    Uninstalling pyzmq-22.3.0:\n",
      "      Successfully uninstalled pyzmq-22.3.0\n",
      "  Attempting uninstall: jupyter-core\n",
      "    Found existing installation: jupyter-core 4.9.2\n",
      "    Uninstalling jupyter-core-4.9.2:\n",
      "      Successfully uninstalled jupyter-core-4.9.2\n",
      "  Attempting uninstall: jsonschema\n",
      "    Found existing installation: jsonschema 4.4.0\n",
      "    Uninstalling jsonschema-4.4.0:\n",
      "      Successfully uninstalled jsonschema-4.4.0\n",
      "  Attempting uninstall: nbformat\n",
      "    Found existing installation: nbformat 5.3.0\n",
      "    Uninstalling nbformat-5.3.0:\n",
      "      Successfully uninstalled nbformat-5.3.0\n",
      "  Attempting uninstall: jupyter-client\n",
      "    Found existing installation: jupyter-client 6.1.12\n",
      "    Uninstalling jupyter-client-6.1.12:\n",
      "      Successfully uninstalled jupyter-client-6.1.12\n",
      "  Attempting uninstall: mistune\n",
      "    Found existing installation: mistune 0.8.4\n",
      "    Uninstalling mistune-0.8.4:\n",
      "      Successfully uninstalled mistune-0.8.4\n",
      "  Attempting uninstall: jinja2\n",
      "    Found existing installation: Jinja2 2.11.3\n",
      "    Uninstalling Jinja2-2.11.3:\n",
      "      Successfully uninstalled Jinja2-2.11.3\n",
      "  Attempting uninstall: send2trash\n",
      "    Found existing installation: Send2Trash 1.8.0\n",
      "    Uninstalling Send2Trash-1.8.0:\n",
      "      Successfully uninstalled Send2Trash-1.8.0\n",
      "  Attempting uninstall: nbconvert\n",
      "    Found existing installation: nbconvert 6.4.4\n",
      "    Uninstalling nbconvert-6.4.4:\n",
      "      Successfully uninstalled nbconvert-6.4.4\n",
      "  Attempting uninstall: requests\n",
      "    Found existing installation: requests 2.27.1\n",
      "    Uninstalling requests-2.27.1:\n",
      "      Successfully uninstalled requests-2.27.1\n",
      "  Attempting uninstall: jupyter-server\n",
      "    Found existing installation: jupyter-server 1.13.5\n",
      "    Uninstalling jupyter-server-1.13.5:\n",
      "      Successfully uninstalled jupyter-server-1.13.5\n",
      "  Attempting uninstall: babel\n",
      "    Found existing installation: Babel 2.9.1\n",
      "    Uninstalling Babel-2.9.1:\n",
      "      Successfully uninstalled Babel-2.9.1\n",
      "  Attempting uninstall: jupyterlab-server\n",
      "    Found existing installation: jupyterlab-server 2.10.3\n",
      "    Uninstalling jupyterlab-server-2.10.3:\n",
      "      Successfully uninstalled jupyterlab-server-2.10.3\n",
      "\u001b[31mERROR: pip's dependency resolver does not currently take into account all the packages that are installed. This behaviour is the source of the following dependency conflicts.\n",
      "spyder 5.1.5 requires pyqt5<5.13, which is not installed.\n",
      "spyder 5.1.5 requires pyqtwebengine<5.13, which is not installed.\n",
      "spyder-kernels 2.1.3 requires jupyter-client<7,>=5.3.4, but you have jupyter-client 8.3.1 which is incompatible.\n",
      "nbclassic 0.3.5 requires jupyter-server~=1.8, but you have jupyter-server 2.7.3 which is incompatible.\n",
      "jupyterlab 3.3.2 requires jupyter-server~=1.4, but you have jupyter-server 2.7.3 which is incompatible.\n",
      "ipykernel 6.9.1 requires jupyter-client<8.0, but you have jupyter-client 8.3.1 which is incompatible.\u001b[0m\n",
      "Successfully installed attrs-23.1.0 babel-2.12.1 fqdn-1.5.1 isoduration-20.11.0 jinja2-3.1.2 jsonpointer-2.4 jsonschema-4.19.0 jsonschema-specifications-2023.7.1 jupyter-client-8.3.1 jupyter-core-5.3.1 jupyter-events-0.7.0 jupyter-server-2.7.3 jupyter-server-terminals-0.4.4 jupyterlab-server-2.25.0 mistune-3.0.1 nbconvert-7.8.0 nbformat-5.9.2 overrides-7.4.0 platformdirs-3.10.0 python-json-logger-2.0.7 pyzmq-25.1.1 referencing-0.30.2 requests-2.31.0 rfc3339-validator-0.1.4 rfc3986-validator-0.1.1 rpds-py-0.10.3 send2trash-1.8.2 tinycss2-1.2.1 tornado-6.3.3 traitlets-5.10.0 uri-template-1.3.0 voila-0.5.4 webcolors-1.13 websockets-11.0.3\n",
      "Note: you may need to restart the kernel to use updated packages.\n"
     ]
    }
   ],
   "source": [
    "pip install voila"
   ]
  },
  {
   "cell_type": "code",
   "execution_count": 2,
   "id": "d3b6f24c",
   "metadata": {},
   "outputs": [
    {
     "name": "stdout",
     "output_type": "stream",
     "text": [
      "Collecting voila-material\n",
      "  Downloading voila_material-0.4.3-py3-none-any.whl (161 kB)\n",
      "\u001b[K     |████████████████████████████████| 161 kB 671 kB/s eta 0:00:01\n",
      "\u001b[?25hRequirement already satisfied: voila<0.6.0,>=0.2.1 in /Users/wadihgeahchan/opt/anaconda3/lib/python3.9/site-packages (from voila-material) (0.5.4)\n",
      "Requirement already satisfied: jupyter-client<9,>=7.4.4 in /Users/wadihgeahchan/opt/anaconda3/lib/python3.9/site-packages (from voila<0.6.0,>=0.2.1->voila-material) (8.3.1)\n",
      "Requirement already satisfied: jupyter-core>=4.11.0 in /Users/wadihgeahchan/opt/anaconda3/lib/python3.9/site-packages (from voila<0.6.0,>=0.2.1->voila-material) (5.3.1)\n",
      "Requirement already satisfied: nbconvert<8,>=6.4.5 in /Users/wadihgeahchan/opt/anaconda3/lib/python3.9/site-packages (from voila<0.6.0,>=0.2.1->voila-material) (7.8.0)\n",
      "Requirement already satisfied: websockets>=9.0 in /Users/wadihgeahchan/opt/anaconda3/lib/python3.9/site-packages (from voila<0.6.0,>=0.2.1->voila-material) (11.0.3)\n",
      "Requirement already satisfied: traitlets<6,>=5.0.3 in /Users/wadihgeahchan/opt/anaconda3/lib/python3.9/site-packages (from voila<0.6.0,>=0.2.1->voila-material) (5.10.0)\n",
      "Requirement already satisfied: nbclient<0.8,>=0.4.0 in /Users/wadihgeahchan/opt/anaconda3/lib/python3.9/site-packages (from voila<0.6.0,>=0.2.1->voila-material) (0.5.13)\n",
      "Requirement already satisfied: jupyter-server<3,>=2.0.0 in /Users/wadihgeahchan/opt/anaconda3/lib/python3.9/site-packages (from voila<0.6.0,>=0.2.1->voila-material) (2.7.3)\n",
      "Requirement already satisfied: jupyterlab-server<3,>=2.3.0 in /Users/wadihgeahchan/opt/anaconda3/lib/python3.9/site-packages (from voila<0.6.0,>=0.2.1->voila-material) (2.25.0)\n",
      "Requirement already satisfied: importlib-metadata>=4.8.3 in /Users/wadihgeahchan/opt/anaconda3/lib/python3.9/site-packages (from jupyter-client<9,>=7.4.4->voila<0.6.0,>=0.2.1->voila-material) (4.11.3)\n",
      "Requirement already satisfied: tornado>=6.2 in /Users/wadihgeahchan/opt/anaconda3/lib/python3.9/site-packages (from jupyter-client<9,>=7.4.4->voila<0.6.0,>=0.2.1->voila-material) (6.3.3)\n",
      "Requirement already satisfied: python-dateutil>=2.8.2 in /Users/wadihgeahchan/opt/anaconda3/lib/python3.9/site-packages (from jupyter-client<9,>=7.4.4->voila<0.6.0,>=0.2.1->voila-material) (2.8.2)\n",
      "Requirement already satisfied: pyzmq>=23.0 in /Users/wadihgeahchan/opt/anaconda3/lib/python3.9/site-packages (from jupyter-client<9,>=7.4.4->voila<0.6.0,>=0.2.1->voila-material) (25.1.1)\n",
      "Requirement already satisfied: zipp>=0.5 in /Users/wadihgeahchan/opt/anaconda3/lib/python3.9/site-packages (from importlib-metadata>=4.8.3->jupyter-client<9,>=7.4.4->voila<0.6.0,>=0.2.1->voila-material) (3.7.0)\n",
      "Requirement already satisfied: platformdirs>=2.5 in /Users/wadihgeahchan/opt/anaconda3/lib/python3.9/site-packages (from jupyter-core>=4.11.0->voila<0.6.0,>=0.2.1->voila-material) (3.10.0)\n",
      "Requirement already satisfied: argon2-cffi in /Users/wadihgeahchan/opt/anaconda3/lib/python3.9/site-packages (from jupyter-server<3,>=2.0.0->voila<0.6.0,>=0.2.1->voila-material) (21.3.0)\n",
      "Requirement already satisfied: send2trash>=1.8.2 in /Users/wadihgeahchan/opt/anaconda3/lib/python3.9/site-packages (from jupyter-server<3,>=2.0.0->voila<0.6.0,>=0.2.1->voila-material) (1.8.2)\n",
      "Requirement already satisfied: jupyter-server-terminals in /Users/wadihgeahchan/opt/anaconda3/lib/python3.9/site-packages (from jupyter-server<3,>=2.0.0->voila<0.6.0,>=0.2.1->voila-material) (0.4.4)\n",
      "Requirement already satisfied: nbformat>=5.3.0 in /Users/wadihgeahchan/opt/anaconda3/lib/python3.9/site-packages (from jupyter-server<3,>=2.0.0->voila<0.6.0,>=0.2.1->voila-material) (5.9.2)\n",
      "Requirement already satisfied: terminado>=0.8.3 in /Users/wadihgeahchan/opt/anaconda3/lib/python3.9/site-packages (from jupyter-server<3,>=2.0.0->voila<0.6.0,>=0.2.1->voila-material) (0.13.1)\n",
      "Requirement already satisfied: anyio>=3.1.0 in /Users/wadihgeahchan/opt/anaconda3/lib/python3.9/site-packages (from jupyter-server<3,>=2.0.0->voila<0.6.0,>=0.2.1->voila-material) (3.5.0)\n",
      "Requirement already satisfied: jupyter-events>=0.6.0 in /Users/wadihgeahchan/opt/anaconda3/lib/python3.9/site-packages (from jupyter-server<3,>=2.0.0->voila<0.6.0,>=0.2.1->voila-material) (0.7.0)\n",
      "Requirement already satisfied: jinja2 in /Users/wadihgeahchan/opt/anaconda3/lib/python3.9/site-packages (from jupyter-server<3,>=2.0.0->voila<0.6.0,>=0.2.1->voila-material) (3.1.2)\n",
      "Requirement already satisfied: packaging in /Users/wadihgeahchan/opt/anaconda3/lib/python3.9/site-packages (from jupyter-server<3,>=2.0.0->voila<0.6.0,>=0.2.1->voila-material) (21.3)\n",
      "Requirement already satisfied: overrides in /Users/wadihgeahchan/opt/anaconda3/lib/python3.9/site-packages (from jupyter-server<3,>=2.0.0->voila<0.6.0,>=0.2.1->voila-material) (7.4.0)\n",
      "Requirement already satisfied: prometheus-client in /Users/wadihgeahchan/opt/anaconda3/lib/python3.9/site-packages (from jupyter-server<3,>=2.0.0->voila<0.6.0,>=0.2.1->voila-material) (0.13.1)\n",
      "Requirement already satisfied: websocket-client in /Users/wadihgeahchan/opt/anaconda3/lib/python3.9/site-packages (from jupyter-server<3,>=2.0.0->voila<0.6.0,>=0.2.1->voila-material) (0.58.0)\n",
      "Requirement already satisfied: idna>=2.8 in /Users/wadihgeahchan/opt/anaconda3/lib/python3.9/site-packages (from anyio>=3.1.0->jupyter-server<3,>=2.0.0->voila<0.6.0,>=0.2.1->voila-material) (3.3)\n",
      "Requirement already satisfied: sniffio>=1.1 in /Users/wadihgeahchan/opt/anaconda3/lib/python3.9/site-packages (from anyio>=3.1.0->jupyter-server<3,>=2.0.0->voila<0.6.0,>=0.2.1->voila-material) (1.2.0)\n",
      "Requirement already satisfied: rfc3339-validator in /Users/wadihgeahchan/opt/anaconda3/lib/python3.9/site-packages (from jupyter-events>=0.6.0->jupyter-server<3,>=2.0.0->voila<0.6.0,>=0.2.1->voila-material) (0.1.4)\n",
      "Requirement already satisfied: rfc3986-validator>=0.1.1 in /Users/wadihgeahchan/opt/anaconda3/lib/python3.9/site-packages (from jupyter-events>=0.6.0->jupyter-server<3,>=2.0.0->voila<0.6.0,>=0.2.1->voila-material) (0.1.1)\n",
      "Requirement already satisfied: python-json-logger>=2.0.4 in /Users/wadihgeahchan/opt/anaconda3/lib/python3.9/site-packages (from jupyter-events>=0.6.0->jupyter-server<3,>=2.0.0->voila<0.6.0,>=0.2.1->voila-material) (2.0.7)\n",
      "Requirement already satisfied: referencing in /Users/wadihgeahchan/opt/anaconda3/lib/python3.9/site-packages (from jupyter-events>=0.6.0->jupyter-server<3,>=2.0.0->voila<0.6.0,>=0.2.1->voila-material) (0.30.2)\n",
      "Requirement already satisfied: jsonschema[format-nongpl]>=4.18.0 in /Users/wadihgeahchan/opt/anaconda3/lib/python3.9/site-packages (from jupyter-events>=0.6.0->jupyter-server<3,>=2.0.0->voila<0.6.0,>=0.2.1->voila-material) (4.19.0)\n",
      "Requirement already satisfied: pyyaml>=5.3 in /Users/wadihgeahchan/opt/anaconda3/lib/python3.9/site-packages (from jupyter-events>=0.6.0->jupyter-server<3,>=2.0.0->voila<0.6.0,>=0.2.1->voila-material) (6.0)\n",
      "Requirement already satisfied: jsonschema-specifications>=2023.03.6 in /Users/wadihgeahchan/opt/anaconda3/lib/python3.9/site-packages (from jsonschema[format-nongpl]>=4.18.0->jupyter-events>=0.6.0->jupyter-server<3,>=2.0.0->voila<0.6.0,>=0.2.1->voila-material) (2023.7.1)\n",
      "Requirement already satisfied: attrs>=22.2.0 in /Users/wadihgeahchan/opt/anaconda3/lib/python3.9/site-packages (from jsonschema[format-nongpl]>=4.18.0->jupyter-events>=0.6.0->jupyter-server<3,>=2.0.0->voila<0.6.0,>=0.2.1->voila-material) (23.1.0)\n",
      "Requirement already satisfied: rpds-py>=0.7.1 in /Users/wadihgeahchan/opt/anaconda3/lib/python3.9/site-packages (from jsonschema[format-nongpl]>=4.18.0->jupyter-events>=0.6.0->jupyter-server<3,>=2.0.0->voila<0.6.0,>=0.2.1->voila-material) (0.10.3)\n",
      "Requirement already satisfied: fqdn in /Users/wadihgeahchan/opt/anaconda3/lib/python3.9/site-packages (from jsonschema[format-nongpl]>=4.18.0->jupyter-events>=0.6.0->jupyter-server<3,>=2.0.0->voila<0.6.0,>=0.2.1->voila-material) (1.5.1)\n",
      "Requirement already satisfied: uri-template in /Users/wadihgeahchan/opt/anaconda3/lib/python3.9/site-packages (from jsonschema[format-nongpl]>=4.18.0->jupyter-events>=0.6.0->jupyter-server<3,>=2.0.0->voila<0.6.0,>=0.2.1->voila-material) (1.3.0)\n",
      "Requirement already satisfied: webcolors>=1.11 in /Users/wadihgeahchan/opt/anaconda3/lib/python3.9/site-packages (from jsonschema[format-nongpl]>=4.18.0->jupyter-events>=0.6.0->jupyter-server<3,>=2.0.0->voila<0.6.0,>=0.2.1->voila-material) (1.13)\n",
      "Requirement already satisfied: isoduration in /Users/wadihgeahchan/opt/anaconda3/lib/python3.9/site-packages (from jsonschema[format-nongpl]>=4.18.0->jupyter-events>=0.6.0->jupyter-server<3,>=2.0.0->voila<0.6.0,>=0.2.1->voila-material) (20.11.0)\n",
      "Requirement already satisfied: jsonpointer>1.13 in /Users/wadihgeahchan/opt/anaconda3/lib/python3.9/site-packages (from jsonschema[format-nongpl]>=4.18.0->jupyter-events>=0.6.0->jupyter-server<3,>=2.0.0->voila<0.6.0,>=0.2.1->voila-material) (2.4)\n"
     ]
    },
    {
     "name": "stdout",
     "output_type": "stream",
     "text": [
      "Requirement already satisfied: babel>=2.10 in /Users/wadihgeahchan/opt/anaconda3/lib/python3.9/site-packages (from jupyterlab-server<3,>=2.3.0->voila<0.6.0,>=0.2.1->voila-material) (2.12.1)\n",
      "Requirement already satisfied: json5>=0.9.0 in /Users/wadihgeahchan/opt/anaconda3/lib/python3.9/site-packages (from jupyterlab-server<3,>=2.3.0->voila<0.6.0,>=0.2.1->voila-material) (0.9.6)\n",
      "Requirement already satisfied: requests>=2.31 in /Users/wadihgeahchan/opt/anaconda3/lib/python3.9/site-packages (from jupyterlab-server<3,>=2.3.0->voila<0.6.0,>=0.2.1->voila-material) (2.31.0)\n",
      "Requirement already satisfied: MarkupSafe>=2.0 in /Users/wadihgeahchan/opt/anaconda3/lib/python3.9/site-packages (from jinja2->jupyter-server<3,>=2.0.0->voila<0.6.0,>=0.2.1->voila-material) (2.0.1)\n",
      "Requirement already satisfied: nest-asyncio in /Users/wadihgeahchan/opt/anaconda3/lib/python3.9/site-packages (from nbclient<0.8,>=0.4.0->voila<0.6.0,>=0.2.1->voila-material) (1.5.5)\n",
      "Requirement already satisfied: mistune<4,>=2.0.3 in /Users/wadihgeahchan/opt/anaconda3/lib/python3.9/site-packages (from nbconvert<8,>=6.4.5->voila<0.6.0,>=0.2.1->voila-material) (3.0.1)\n",
      "Requirement already satisfied: defusedxml in /Users/wadihgeahchan/opt/anaconda3/lib/python3.9/site-packages (from nbconvert<8,>=6.4.5->voila<0.6.0,>=0.2.1->voila-material) (0.7.1)\n",
      "Requirement already satisfied: beautifulsoup4 in /Users/wadihgeahchan/opt/anaconda3/lib/python3.9/site-packages (from nbconvert<8,>=6.4.5->voila<0.6.0,>=0.2.1->voila-material) (4.11.1)\n",
      "Requirement already satisfied: pygments>=2.4.1 in /Users/wadihgeahchan/opt/anaconda3/lib/python3.9/site-packages (from nbconvert<8,>=6.4.5->voila<0.6.0,>=0.2.1->voila-material) (2.11.2)\n",
      "Requirement already satisfied: jupyterlab-pygments in /Users/wadihgeahchan/opt/anaconda3/lib/python3.9/site-packages (from nbconvert<8,>=6.4.5->voila<0.6.0,>=0.2.1->voila-material) (0.1.2)\n",
      "Requirement already satisfied: bleach!=5.0.0 in /Users/wadihgeahchan/opt/anaconda3/lib/python3.9/site-packages (from nbconvert<8,>=6.4.5->voila<0.6.0,>=0.2.1->voila-material) (4.1.0)\n",
      "Requirement already satisfied: tinycss2 in /Users/wadihgeahchan/opt/anaconda3/lib/python3.9/site-packages (from nbconvert<8,>=6.4.5->voila<0.6.0,>=0.2.1->voila-material) (1.2.1)\n",
      "Requirement already satisfied: pandocfilters>=1.4.1 in /Users/wadihgeahchan/opt/anaconda3/lib/python3.9/site-packages (from nbconvert<8,>=6.4.5->voila<0.6.0,>=0.2.1->voila-material) (1.5.0)\n",
      "Requirement already satisfied: webencodings in /Users/wadihgeahchan/opt/anaconda3/lib/python3.9/site-packages (from bleach!=5.0.0->nbconvert<8,>=6.4.5->voila<0.6.0,>=0.2.1->voila-material) (0.5.1)\n",
      "Requirement already satisfied: six>=1.9.0 in /Users/wadihgeahchan/opt/anaconda3/lib/python3.9/site-packages (from bleach!=5.0.0->nbconvert<8,>=6.4.5->voila<0.6.0,>=0.2.1->voila-material) (1.16.0)\n",
      "Requirement already satisfied: fastjsonschema in /Users/wadihgeahchan/opt/anaconda3/lib/python3.9/site-packages (from nbformat>=5.3.0->jupyter-server<3,>=2.0.0->voila<0.6.0,>=0.2.1->voila-material) (2.15.1)\n",
      "Requirement already satisfied: pyparsing!=3.0.5,>=2.0.2 in /Users/wadihgeahchan/opt/anaconda3/lib/python3.9/site-packages (from packaging->jupyter-server<3,>=2.0.0->voila<0.6.0,>=0.2.1->voila-material) (3.0.4)\n",
      "Requirement already satisfied: certifi>=2017.4.17 in /Users/wadihgeahchan/opt/anaconda3/lib/python3.9/site-packages (from requests>=2.31->jupyterlab-server<3,>=2.3.0->voila<0.6.0,>=0.2.1->voila-material) (2021.10.8)\n",
      "Requirement already satisfied: charset-normalizer<4,>=2 in /Users/wadihgeahchan/opt/anaconda3/lib/python3.9/site-packages (from requests>=2.31->jupyterlab-server<3,>=2.3.0->voila<0.6.0,>=0.2.1->voila-material) (2.0.4)\n",
      "Requirement already satisfied: urllib3<3,>=1.21.1 in /Users/wadihgeahchan/opt/anaconda3/lib/python3.9/site-packages (from requests>=2.31->jupyterlab-server<3,>=2.3.0->voila<0.6.0,>=0.2.1->voila-material) (1.26.9)\n",
      "Requirement already satisfied: ptyprocess in /Users/wadihgeahchan/opt/anaconda3/lib/python3.9/site-packages (from terminado>=0.8.3->jupyter-server<3,>=2.0.0->voila<0.6.0,>=0.2.1->voila-material) (0.7.0)\n",
      "Requirement already satisfied: argon2-cffi-bindings in /Users/wadihgeahchan/opt/anaconda3/lib/python3.9/site-packages (from argon2-cffi->jupyter-server<3,>=2.0.0->voila<0.6.0,>=0.2.1->voila-material) (21.2.0)\n",
      "Requirement already satisfied: cffi>=1.0.1 in /Users/wadihgeahchan/opt/anaconda3/lib/python3.9/site-packages (from argon2-cffi-bindings->argon2-cffi->jupyter-server<3,>=2.0.0->voila<0.6.0,>=0.2.1->voila-material) (1.15.0)\n",
      "Requirement already satisfied: pycparser in /Users/wadihgeahchan/opt/anaconda3/lib/python3.9/site-packages (from cffi>=1.0.1->argon2-cffi-bindings->argon2-cffi->jupyter-server<3,>=2.0.0->voila<0.6.0,>=0.2.1->voila-material) (2.21)\n",
      "Requirement already satisfied: soupsieve>1.2 in /Users/wadihgeahchan/opt/anaconda3/lib/python3.9/site-packages (from beautifulsoup4->nbconvert<8,>=6.4.5->voila<0.6.0,>=0.2.1->voila-material) (2.3.1)\n",
      "Requirement already satisfied: arrow>=0.15.0 in /Users/wadihgeahchan/opt/anaconda3/lib/python3.9/site-packages (from isoduration->jsonschema[format-nongpl]>=4.18.0->jupyter-events>=0.6.0->jupyter-server<3,>=2.0.0->voila<0.6.0,>=0.2.1->voila-material) (1.2.2)\n",
      "Installing collected packages: voila-material\n",
      "Successfully installed voila-material-0.4.3\n",
      "Note: you may need to restart the kernel to use updated packages.\n"
     ]
    }
   ],
   "source": [
    "pip install voila-material \n"
   ]
  },
  {
   "cell_type": "code",
   "execution_count": 1,
   "id": "33c43c1b",
   "metadata": {},
   "outputs": [
    {
     "ename": "SyntaxError",
     "evalue": "invalid syntax (3632626157.py, line 1)",
     "output_type": "error",
     "traceback": [
      "\u001b[0;36m  Input \u001b[0;32mIn [1]\u001b[0;36m\u001b[0m\n\u001b[0;31m    voila nameofnotebook.ipynb\u001b[0m\n\u001b[0m          ^\u001b[0m\n\u001b[0;31mSyntaxError\u001b[0m\u001b[0;31m:\u001b[0m invalid syntax\n"
     ]
    }
   ],
   "source": [
    "voila nameofnotebook.ipynb "
   ]
  },
  {
   "cell_type": "code",
   "execution_count": null,
   "id": "41c6cabe",
   "metadata": {},
   "outputs": [],
   "source": []
  }
 ],
 "metadata": {
  "kernelspec": {
   "display_name": "Python 3 (ipykernel)",
   "language": "python",
   "name": "python3"
  },
  "language_info": {
   "codemirror_mode": {
    "name": "ipython",
    "version": 3
   },
   "file_extension": ".py",
   "mimetype": "text/x-python",
   "name": "python",
   "nbconvert_exporter": "python",
   "pygments_lexer": "ipython3",
   "version": "3.9.12"
  }
 },
 "nbformat": 4,
 "nbformat_minor": 5
}
